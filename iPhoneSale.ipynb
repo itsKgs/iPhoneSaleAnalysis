{
 "cells": [
  {
   "cell_type": "code",
   "execution_count": 1,
   "id": "75c049e7-a283-46e2-9d76-442619c6e5ce",
   "metadata": {},
   "outputs": [],
   "source": [
    "import numpy as np\n",
    "import pandas as pd\n",
    "import matplotlib.pyplot as plt\n",
    "import plotly.express as px\n",
    "import plotly.graph_objects as go"
   ]
  },
  {
   "cell_type": "code",
   "execution_count": 2,
   "id": "4c379c51-0cff-4fde-915f-b090fa504760",
   "metadata": {},
   "outputs": [],
   "source": [
    "df = pd.read_csv('apple_products.csv')"
   ]
  },
  {
   "cell_type": "code",
   "execution_count": 3,
   "id": "09603316-e923-4732-80cd-2c324c2d1591",
   "metadata": {},
   "outputs": [
    {
     "data": {
      "text/html": [
       "<div>\n",
       "<style scoped>\n",
       "    .dataframe tbody tr th:only-of-type {\n",
       "        vertical-align: middle;\n",
       "    }\n",
       "\n",
       "    .dataframe tbody tr th {\n",
       "        vertical-align: top;\n",
       "    }\n",
       "\n",
       "    .dataframe thead th {\n",
       "        text-align: right;\n",
       "    }\n",
       "</style>\n",
       "<table border=\"1\" class=\"dataframe\">\n",
       "  <thead>\n",
       "    <tr style=\"text-align: right;\">\n",
       "      <th></th>\n",
       "      <th>Product Name</th>\n",
       "      <th>Product URL</th>\n",
       "      <th>Brand</th>\n",
       "      <th>Sale Price</th>\n",
       "      <th>Mrp</th>\n",
       "      <th>Discount Percentage</th>\n",
       "      <th>Number Of Ratings</th>\n",
       "      <th>Number Of Reviews</th>\n",
       "      <th>Upc</th>\n",
       "      <th>Star Rating</th>\n",
       "      <th>Ram</th>\n",
       "    </tr>\n",
       "  </thead>\n",
       "  <tbody>\n",
       "    <tr>\n",
       "      <th>0</th>\n",
       "      <td>APPLE iPhone 8 Plus (Gold, 64 GB)</td>\n",
       "      <td>https://www.flipkart.com/apple-iphone-8-plus-g...</td>\n",
       "      <td>Apple</td>\n",
       "      <td>49900</td>\n",
       "      <td>49900</td>\n",
       "      <td>0</td>\n",
       "      <td>3431</td>\n",
       "      <td>356</td>\n",
       "      <td>MOBEXRGV7EHHTGUH</td>\n",
       "      <td>4.6</td>\n",
       "      <td>2 GB</td>\n",
       "    </tr>\n",
       "    <tr>\n",
       "      <th>1</th>\n",
       "      <td>APPLE iPhone 8 Plus (Space Grey, 256 GB)</td>\n",
       "      <td>https://www.flipkart.com/apple-iphone-8-plus-s...</td>\n",
       "      <td>Apple</td>\n",
       "      <td>84900</td>\n",
       "      <td>84900</td>\n",
       "      <td>0</td>\n",
       "      <td>3431</td>\n",
       "      <td>356</td>\n",
       "      <td>MOBEXRGVAC6TJT4F</td>\n",
       "      <td>4.6</td>\n",
       "      <td>2 GB</td>\n",
       "    </tr>\n",
       "    <tr>\n",
       "      <th>2</th>\n",
       "      <td>APPLE iPhone 8 Plus (Silver, 256 GB)</td>\n",
       "      <td>https://www.flipkart.com/apple-iphone-8-plus-s...</td>\n",
       "      <td>Apple</td>\n",
       "      <td>84900</td>\n",
       "      <td>84900</td>\n",
       "      <td>0</td>\n",
       "      <td>3431</td>\n",
       "      <td>356</td>\n",
       "      <td>MOBEXRGVGETABXWZ</td>\n",
       "      <td>4.6</td>\n",
       "      <td>2 GB</td>\n",
       "    </tr>\n",
       "    <tr>\n",
       "      <th>3</th>\n",
       "      <td>APPLE iPhone 8 (Silver, 256 GB)</td>\n",
       "      <td>https://www.flipkart.com/apple-iphone-8-silver...</td>\n",
       "      <td>Apple</td>\n",
       "      <td>77000</td>\n",
       "      <td>77000</td>\n",
       "      <td>0</td>\n",
       "      <td>11202</td>\n",
       "      <td>794</td>\n",
       "      <td>MOBEXRGVMZWUHCBA</td>\n",
       "      <td>4.5</td>\n",
       "      <td>2 GB</td>\n",
       "    </tr>\n",
       "    <tr>\n",
       "      <th>4</th>\n",
       "      <td>APPLE iPhone 8 (Gold, 256 GB)</td>\n",
       "      <td>https://www.flipkart.com/apple-iphone-8-gold-2...</td>\n",
       "      <td>Apple</td>\n",
       "      <td>77000</td>\n",
       "      <td>77000</td>\n",
       "      <td>0</td>\n",
       "      <td>11202</td>\n",
       "      <td>794</td>\n",
       "      <td>MOBEXRGVPK7PFEJZ</td>\n",
       "      <td>4.5</td>\n",
       "      <td>2 GB</td>\n",
       "    </tr>\n",
       "    <tr>\n",
       "      <th>...</th>\n",
       "      <td>...</td>\n",
       "      <td>...</td>\n",
       "      <td>...</td>\n",
       "      <td>...</td>\n",
       "      <td>...</td>\n",
       "      <td>...</td>\n",
       "      <td>...</td>\n",
       "      <td>...</td>\n",
       "      <td>...</td>\n",
       "      <td>...</td>\n",
       "      <td>...</td>\n",
       "    </tr>\n",
       "    <tr>\n",
       "      <th>57</th>\n",
       "      <td>APPLE iPhone SE (Black, 64 GB)</td>\n",
       "      <td>https://www.flipkart.com/apple-iphone-se-black...</td>\n",
       "      <td>Apple</td>\n",
       "      <td>29999</td>\n",
       "      <td>39900</td>\n",
       "      <td>24</td>\n",
       "      <td>95909</td>\n",
       "      <td>8161</td>\n",
       "      <td>MOBFWQ6BR3MK7AUG</td>\n",
       "      <td>4.5</td>\n",
       "      <td>4 GB</td>\n",
       "    </tr>\n",
       "    <tr>\n",
       "      <th>58</th>\n",
       "      <td>APPLE iPhone 11 (Purple, 64 GB)</td>\n",
       "      <td>https://www.flipkart.com/apple-iphone-11-purpl...</td>\n",
       "      <td>Apple</td>\n",
       "      <td>46999</td>\n",
       "      <td>54900</td>\n",
       "      <td>14</td>\n",
       "      <td>43470</td>\n",
       "      <td>3331</td>\n",
       "      <td>MOBFWQ6BTFFJKGKE</td>\n",
       "      <td>4.6</td>\n",
       "      <td>4 GB</td>\n",
       "    </tr>\n",
       "    <tr>\n",
       "      <th>59</th>\n",
       "      <td>APPLE iPhone 11 (White, 64 GB)</td>\n",
       "      <td>https://www.flipkart.com/apple-iphone-11-white...</td>\n",
       "      <td>Apple</td>\n",
       "      <td>46999</td>\n",
       "      <td>54900</td>\n",
       "      <td>14</td>\n",
       "      <td>43470</td>\n",
       "      <td>3331</td>\n",
       "      <td>MOBFWQ6BVWVEH3XE</td>\n",
       "      <td>4.6</td>\n",
       "      <td>4 GB</td>\n",
       "    </tr>\n",
       "    <tr>\n",
       "      <th>60</th>\n",
       "      <td>APPLE iPhone 11 (Black, 64 GB)</td>\n",
       "      <td>https://www.flipkart.com/apple-iphone-11-black...</td>\n",
       "      <td>Apple</td>\n",
       "      <td>46999</td>\n",
       "      <td>54900</td>\n",
       "      <td>14</td>\n",
       "      <td>43470</td>\n",
       "      <td>3331</td>\n",
       "      <td>MOBFWQ6BXGJCEYNY</td>\n",
       "      <td>4.6</td>\n",
       "      <td>4 GB</td>\n",
       "    </tr>\n",
       "    <tr>\n",
       "      <th>61</th>\n",
       "      <td>APPLE iPhone 11 (Red, 64 GB)</td>\n",
       "      <td>https://www.flipkart.com/apple-iphone-11-red-6...</td>\n",
       "      <td>Apple</td>\n",
       "      <td>46999</td>\n",
       "      <td>54900</td>\n",
       "      <td>14</td>\n",
       "      <td>43470</td>\n",
       "      <td>3331</td>\n",
       "      <td>MOBFWQ6BYYV3FCU7</td>\n",
       "      <td>4.6</td>\n",
       "      <td>4 GB</td>\n",
       "    </tr>\n",
       "  </tbody>\n",
       "</table>\n",
       "<p>62 rows × 11 columns</p>\n",
       "</div>"
      ],
      "text/plain": [
       "                                Product Name  \\\n",
       "0          APPLE iPhone 8 Plus (Gold, 64 GB)   \n",
       "1   APPLE iPhone 8 Plus (Space Grey, 256 GB)   \n",
       "2       APPLE iPhone 8 Plus (Silver, 256 GB)   \n",
       "3            APPLE iPhone 8 (Silver, 256 GB)   \n",
       "4              APPLE iPhone 8 (Gold, 256 GB)   \n",
       "..                                       ...   \n",
       "57            APPLE iPhone SE (Black, 64 GB)   \n",
       "58           APPLE iPhone 11 (Purple, 64 GB)   \n",
       "59            APPLE iPhone 11 (White, 64 GB)   \n",
       "60            APPLE iPhone 11 (Black, 64 GB)   \n",
       "61              APPLE iPhone 11 (Red, 64 GB)   \n",
       "\n",
       "                                          Product URL  Brand  Sale Price  \\\n",
       "0   https://www.flipkart.com/apple-iphone-8-plus-g...  Apple       49900   \n",
       "1   https://www.flipkart.com/apple-iphone-8-plus-s...  Apple       84900   \n",
       "2   https://www.flipkart.com/apple-iphone-8-plus-s...  Apple       84900   \n",
       "3   https://www.flipkart.com/apple-iphone-8-silver...  Apple       77000   \n",
       "4   https://www.flipkart.com/apple-iphone-8-gold-2...  Apple       77000   \n",
       "..                                                ...    ...         ...   \n",
       "57  https://www.flipkart.com/apple-iphone-se-black...  Apple       29999   \n",
       "58  https://www.flipkart.com/apple-iphone-11-purpl...  Apple       46999   \n",
       "59  https://www.flipkart.com/apple-iphone-11-white...  Apple       46999   \n",
       "60  https://www.flipkart.com/apple-iphone-11-black...  Apple       46999   \n",
       "61  https://www.flipkart.com/apple-iphone-11-red-6...  Apple       46999   \n",
       "\n",
       "      Mrp  Discount Percentage  Number Of Ratings  Number Of Reviews  \\\n",
       "0   49900                    0               3431                356   \n",
       "1   84900                    0               3431                356   \n",
       "2   84900                    0               3431                356   \n",
       "3   77000                    0              11202                794   \n",
       "4   77000                    0              11202                794   \n",
       "..    ...                  ...                ...                ...   \n",
       "57  39900                   24              95909               8161   \n",
       "58  54900                   14              43470               3331   \n",
       "59  54900                   14              43470               3331   \n",
       "60  54900                   14              43470               3331   \n",
       "61  54900                   14              43470               3331   \n",
       "\n",
       "                 Upc  Star Rating   Ram  \n",
       "0   MOBEXRGV7EHHTGUH          4.6  2 GB  \n",
       "1   MOBEXRGVAC6TJT4F          4.6  2 GB  \n",
       "2   MOBEXRGVGETABXWZ          4.6  2 GB  \n",
       "3   MOBEXRGVMZWUHCBA          4.5  2 GB  \n",
       "4   MOBEXRGVPK7PFEJZ          4.5  2 GB  \n",
       "..               ...          ...   ...  \n",
       "57  MOBFWQ6BR3MK7AUG          4.5  4 GB  \n",
       "58  MOBFWQ6BTFFJKGKE          4.6  4 GB  \n",
       "59  MOBFWQ6BVWVEH3XE          4.6  4 GB  \n",
       "60  MOBFWQ6BXGJCEYNY          4.6  4 GB  \n",
       "61  MOBFWQ6BYYV3FCU7          4.6  4 GB  \n",
       "\n",
       "[62 rows x 11 columns]"
      ]
     },
     "execution_count": 3,
     "metadata": {},
     "output_type": "execute_result"
    }
   ],
   "source": [
    "df"
   ]
  },
  {
   "cell_type": "code",
   "execution_count": 4,
   "id": "5028d057-64ad-4c93-a5de-dce2fa59b53a",
   "metadata": {},
   "outputs": [
    {
     "data": {
      "text/html": [
       "<div>\n",
       "<style scoped>\n",
       "    .dataframe tbody tr th:only-of-type {\n",
       "        vertical-align: middle;\n",
       "    }\n",
       "\n",
       "    .dataframe tbody tr th {\n",
       "        vertical-align: top;\n",
       "    }\n",
       "\n",
       "    .dataframe thead th {\n",
       "        text-align: right;\n",
       "    }\n",
       "</style>\n",
       "<table border=\"1\" class=\"dataframe\">\n",
       "  <thead>\n",
       "    <tr style=\"text-align: right;\">\n",
       "      <th></th>\n",
       "      <th>Product Name</th>\n",
       "      <th>Product URL</th>\n",
       "      <th>Brand</th>\n",
       "      <th>Sale Price</th>\n",
       "      <th>Mrp</th>\n",
       "      <th>Discount Percentage</th>\n",
       "      <th>Number Of Ratings</th>\n",
       "      <th>Number Of Reviews</th>\n",
       "      <th>Upc</th>\n",
       "      <th>Star Rating</th>\n",
       "      <th>Ram</th>\n",
       "    </tr>\n",
       "  </thead>\n",
       "  <tbody>\n",
       "    <tr>\n",
       "      <th>0</th>\n",
       "      <td>APPLE iPhone 8 Plus (Gold, 64 GB)</td>\n",
       "      <td>https://www.flipkart.com/apple-iphone-8-plus-g...</td>\n",
       "      <td>Apple</td>\n",
       "      <td>49900</td>\n",
       "      <td>49900</td>\n",
       "      <td>0</td>\n",
       "      <td>3431</td>\n",
       "      <td>356</td>\n",
       "      <td>MOBEXRGV7EHHTGUH</td>\n",
       "      <td>4.6</td>\n",
       "      <td>2 GB</td>\n",
       "    </tr>\n",
       "    <tr>\n",
       "      <th>1</th>\n",
       "      <td>APPLE iPhone 8 Plus (Space Grey, 256 GB)</td>\n",
       "      <td>https://www.flipkart.com/apple-iphone-8-plus-s...</td>\n",
       "      <td>Apple</td>\n",
       "      <td>84900</td>\n",
       "      <td>84900</td>\n",
       "      <td>0</td>\n",
       "      <td>3431</td>\n",
       "      <td>356</td>\n",
       "      <td>MOBEXRGVAC6TJT4F</td>\n",
       "      <td>4.6</td>\n",
       "      <td>2 GB</td>\n",
       "    </tr>\n",
       "    <tr>\n",
       "      <th>2</th>\n",
       "      <td>APPLE iPhone 8 Plus (Silver, 256 GB)</td>\n",
       "      <td>https://www.flipkart.com/apple-iphone-8-plus-s...</td>\n",
       "      <td>Apple</td>\n",
       "      <td>84900</td>\n",
       "      <td>84900</td>\n",
       "      <td>0</td>\n",
       "      <td>3431</td>\n",
       "      <td>356</td>\n",
       "      <td>MOBEXRGVGETABXWZ</td>\n",
       "      <td>4.6</td>\n",
       "      <td>2 GB</td>\n",
       "    </tr>\n",
       "    <tr>\n",
       "      <th>3</th>\n",
       "      <td>APPLE iPhone 8 (Silver, 256 GB)</td>\n",
       "      <td>https://www.flipkart.com/apple-iphone-8-silver...</td>\n",
       "      <td>Apple</td>\n",
       "      <td>77000</td>\n",
       "      <td>77000</td>\n",
       "      <td>0</td>\n",
       "      <td>11202</td>\n",
       "      <td>794</td>\n",
       "      <td>MOBEXRGVMZWUHCBA</td>\n",
       "      <td>4.5</td>\n",
       "      <td>2 GB</td>\n",
       "    </tr>\n",
       "    <tr>\n",
       "      <th>4</th>\n",
       "      <td>APPLE iPhone 8 (Gold, 256 GB)</td>\n",
       "      <td>https://www.flipkart.com/apple-iphone-8-gold-2...</td>\n",
       "      <td>Apple</td>\n",
       "      <td>77000</td>\n",
       "      <td>77000</td>\n",
       "      <td>0</td>\n",
       "      <td>11202</td>\n",
       "      <td>794</td>\n",
       "      <td>MOBEXRGVPK7PFEJZ</td>\n",
       "      <td>4.5</td>\n",
       "      <td>2 GB</td>\n",
       "    </tr>\n",
       "  </tbody>\n",
       "</table>\n",
       "</div>"
      ],
      "text/plain": [
       "                               Product Name  \\\n",
       "0         APPLE iPhone 8 Plus (Gold, 64 GB)   \n",
       "1  APPLE iPhone 8 Plus (Space Grey, 256 GB)   \n",
       "2      APPLE iPhone 8 Plus (Silver, 256 GB)   \n",
       "3           APPLE iPhone 8 (Silver, 256 GB)   \n",
       "4             APPLE iPhone 8 (Gold, 256 GB)   \n",
       "\n",
       "                                         Product URL  Brand  Sale Price  \\\n",
       "0  https://www.flipkart.com/apple-iphone-8-plus-g...  Apple       49900   \n",
       "1  https://www.flipkart.com/apple-iphone-8-plus-s...  Apple       84900   \n",
       "2  https://www.flipkart.com/apple-iphone-8-plus-s...  Apple       84900   \n",
       "3  https://www.flipkart.com/apple-iphone-8-silver...  Apple       77000   \n",
       "4  https://www.flipkart.com/apple-iphone-8-gold-2...  Apple       77000   \n",
       "\n",
       "     Mrp  Discount Percentage  Number Of Ratings  Number Of Reviews  \\\n",
       "0  49900                    0               3431                356   \n",
       "1  84900                    0               3431                356   \n",
       "2  84900                    0               3431                356   \n",
       "3  77000                    0              11202                794   \n",
       "4  77000                    0              11202                794   \n",
       "\n",
       "                Upc  Star Rating   Ram  \n",
       "0  MOBEXRGV7EHHTGUH          4.6  2 GB  \n",
       "1  MOBEXRGVAC6TJT4F          4.6  2 GB  \n",
       "2  MOBEXRGVGETABXWZ          4.6  2 GB  \n",
       "3  MOBEXRGVMZWUHCBA          4.5  2 GB  \n",
       "4  MOBEXRGVPK7PFEJZ          4.5  2 GB  "
      ]
     },
     "execution_count": 4,
     "metadata": {},
     "output_type": "execute_result"
    }
   ],
   "source": [
    "df.head()"
   ]
  },
  {
   "cell_type": "code",
   "execution_count": 5,
   "id": "d7c78385-625a-437c-9894-64d1ba3aa302",
   "metadata": {},
   "outputs": [
    {
     "data": {
      "text/plain": [
       "Product Name           0\n",
       "Product URL            0\n",
       "Brand                  0\n",
       "Sale Price             0\n",
       "Mrp                    0\n",
       "Discount Percentage    0\n",
       "Number Of Ratings      0\n",
       "Number Of Reviews      0\n",
       "Upc                    0\n",
       "Star Rating            0\n",
       "Ram                    0\n",
       "dtype: int64"
      ]
     },
     "execution_count": 5,
     "metadata": {},
     "output_type": "execute_result"
    }
   ],
   "source": [
    "df.isnull().sum() #check null value in each column"
   ]
  },
  {
   "cell_type": "code",
   "execution_count": 6,
   "id": "a2347965-94bc-4158-ba1e-e4f3d971dba9",
   "metadata": {},
   "outputs": [
    {
     "name": "stdout",
     "output_type": "stream",
     "text": [
      "<class 'pandas.core.frame.DataFrame'>\n",
      "RangeIndex: 62 entries, 0 to 61\n",
      "Data columns (total 11 columns):\n",
      " #   Column               Non-Null Count  Dtype  \n",
      "---  ------               --------------  -----  \n",
      " 0   Product Name         62 non-null     object \n",
      " 1   Product URL          62 non-null     object \n",
      " 2   Brand                62 non-null     object \n",
      " 3   Sale Price           62 non-null     int64  \n",
      " 4   Mrp                  62 non-null     int64  \n",
      " 5   Discount Percentage  62 non-null     int64  \n",
      " 6   Number Of Ratings    62 non-null     int64  \n",
      " 7   Number Of Reviews    62 non-null     int64  \n",
      " 8   Upc                  62 non-null     object \n",
      " 9   Star Rating          62 non-null     float64\n",
      " 10  Ram                  62 non-null     object \n",
      "dtypes: float64(1), int64(5), object(5)\n",
      "memory usage: 5.5+ KB\n"
     ]
    }
   ],
   "source": [
    "df.info()"
   ]
  },
  {
   "cell_type": "code",
   "execution_count": 7,
   "id": "725e06a8-9537-4f3d-867f-3ced95705fa1",
   "metadata": {},
   "outputs": [
    {
     "data": {
      "text/html": [
       "<div>\n",
       "<style scoped>\n",
       "    .dataframe tbody tr th:only-of-type {\n",
       "        vertical-align: middle;\n",
       "    }\n",
       "\n",
       "    .dataframe tbody tr th {\n",
       "        vertical-align: top;\n",
       "    }\n",
       "\n",
       "    .dataframe thead th {\n",
       "        text-align: right;\n",
       "    }\n",
       "</style>\n",
       "<table border=\"1\" class=\"dataframe\">\n",
       "  <thead>\n",
       "    <tr style=\"text-align: right;\">\n",
       "      <th></th>\n",
       "      <th>Sale Price</th>\n",
       "      <th>Mrp</th>\n",
       "      <th>Discount Percentage</th>\n",
       "      <th>Number Of Ratings</th>\n",
       "      <th>Number Of Reviews</th>\n",
       "      <th>Star Rating</th>\n",
       "    </tr>\n",
       "  </thead>\n",
       "  <tbody>\n",
       "    <tr>\n",
       "      <th>count</th>\n",
       "      <td>62.000000</td>\n",
       "      <td>62.000000</td>\n",
       "      <td>62.000000</td>\n",
       "      <td>62.000000</td>\n",
       "      <td>62.000000</td>\n",
       "      <td>62.000000</td>\n",
       "    </tr>\n",
       "    <tr>\n",
       "      <th>mean</th>\n",
       "      <td>80073.887097</td>\n",
       "      <td>88058.064516</td>\n",
       "      <td>9.951613</td>\n",
       "      <td>22420.403226</td>\n",
       "      <td>1861.677419</td>\n",
       "      <td>4.575806</td>\n",
       "    </tr>\n",
       "    <tr>\n",
       "      <th>std</th>\n",
       "      <td>34310.446132</td>\n",
       "      <td>34728.825597</td>\n",
       "      <td>7.608079</td>\n",
       "      <td>33768.589550</td>\n",
       "      <td>2855.883830</td>\n",
       "      <td>0.059190</td>\n",
       "    </tr>\n",
       "    <tr>\n",
       "      <th>min</th>\n",
       "      <td>29999.000000</td>\n",
       "      <td>39900.000000</td>\n",
       "      <td>0.000000</td>\n",
       "      <td>542.000000</td>\n",
       "      <td>42.000000</td>\n",
       "      <td>4.500000</td>\n",
       "    </tr>\n",
       "    <tr>\n",
       "      <th>25%</th>\n",
       "      <td>49900.000000</td>\n",
       "      <td>54900.000000</td>\n",
       "      <td>6.000000</td>\n",
       "      <td>740.000000</td>\n",
       "      <td>64.000000</td>\n",
       "      <td>4.500000</td>\n",
       "    </tr>\n",
       "    <tr>\n",
       "      <th>50%</th>\n",
       "      <td>75900.000000</td>\n",
       "      <td>79900.000000</td>\n",
       "      <td>10.000000</td>\n",
       "      <td>2101.000000</td>\n",
       "      <td>180.000000</td>\n",
       "      <td>4.600000</td>\n",
       "    </tr>\n",
       "    <tr>\n",
       "      <th>75%</th>\n",
       "      <td>117100.000000</td>\n",
       "      <td>120950.000000</td>\n",
       "      <td>14.000000</td>\n",
       "      <td>43470.000000</td>\n",
       "      <td>3331.000000</td>\n",
       "      <td>4.600000</td>\n",
       "    </tr>\n",
       "    <tr>\n",
       "      <th>max</th>\n",
       "      <td>140900.000000</td>\n",
       "      <td>149900.000000</td>\n",
       "      <td>29.000000</td>\n",
       "      <td>95909.000000</td>\n",
       "      <td>8161.000000</td>\n",
       "      <td>4.700000</td>\n",
       "    </tr>\n",
       "  </tbody>\n",
       "</table>\n",
       "</div>"
      ],
      "text/plain": [
       "          Sale Price            Mrp  Discount Percentage  Number Of Ratings  \\\n",
       "count      62.000000      62.000000            62.000000          62.000000   \n",
       "mean    80073.887097   88058.064516             9.951613       22420.403226   \n",
       "std     34310.446132   34728.825597             7.608079       33768.589550   \n",
       "min     29999.000000   39900.000000             0.000000         542.000000   \n",
       "25%     49900.000000   54900.000000             6.000000         740.000000   \n",
       "50%     75900.000000   79900.000000            10.000000        2101.000000   \n",
       "75%    117100.000000  120950.000000            14.000000       43470.000000   \n",
       "max    140900.000000  149900.000000            29.000000       95909.000000   \n",
       "\n",
       "       Number Of Reviews  Star Rating  \n",
       "count          62.000000    62.000000  \n",
       "mean         1861.677419     4.575806  \n",
       "std          2855.883830     0.059190  \n",
       "min            42.000000     4.500000  \n",
       "25%            64.000000     4.500000  \n",
       "50%           180.000000     4.600000  \n",
       "75%          3331.000000     4.600000  \n",
       "max          8161.000000     4.700000  "
      ]
     },
     "execution_count": 7,
     "metadata": {},
     "output_type": "execute_result"
    }
   ],
   "source": [
    "df.describe()"
   ]
  },
  {
   "cell_type": "code",
   "execution_count": 8,
   "id": "1c02f6b7-ac8e-484a-9a0f-002186ce489b",
   "metadata": {},
   "outputs": [
    {
     "name": "stdout",
     "output_type": "stream",
     "text": [
      "0     False\n",
      "1     False\n",
      "2     False\n",
      "3     False\n",
      "4     False\n",
      "      ...  \n",
      "57    False\n",
      "58    False\n",
      "59    False\n",
      "60    False\n",
      "61    False\n",
      "Length: 62, dtype: bool\n"
     ]
    }
   ],
   "source": [
    "print(df.duplicated())"
   ]
  },
  {
   "cell_type": "markdown",
   "id": "8042dffe-534b-4f98-88a4-ed15351424f3",
   "metadata": {},
   "source": [
    "<span style=\"font-size: 24px; font-weight: bold;\">Top-10 highest-rated iPhones on flipkart in India?</span>"
   ]
  },
  {
   "cell_type": "code",
   "execution_count": 9,
   "id": "18b5584b-cd41-4bf1-9087-b6f74d4dd31e",
   "metadata": {},
   "outputs": [
    {
     "data": {
      "text/html": [
       "<div>\n",
       "<style scoped>\n",
       "    .dataframe tbody tr th:only-of-type {\n",
       "        vertical-align: middle;\n",
       "    }\n",
       "\n",
       "    .dataframe tbody tr th {\n",
       "        vertical-align: top;\n",
       "    }\n",
       "\n",
       "    .dataframe thead th {\n",
       "        text-align: right;\n",
       "    }\n",
       "</style>\n",
       "<table border=\"1\" class=\"dataframe\">\n",
       "  <thead>\n",
       "    <tr style=\"text-align: right;\">\n",
       "      <th></th>\n",
       "      <th>Product Name</th>\n",
       "      <th>Product URL</th>\n",
       "      <th>Brand</th>\n",
       "      <th>Sale Price</th>\n",
       "      <th>Mrp</th>\n",
       "      <th>Discount Percentage</th>\n",
       "      <th>Number Of Ratings</th>\n",
       "      <th>Number Of Reviews</th>\n",
       "      <th>Upc</th>\n",
       "      <th>Star Rating</th>\n",
       "      <th>Ram</th>\n",
       "    </tr>\n",
       "  </thead>\n",
       "  <tbody>\n",
       "    <tr>\n",
       "      <th>20</th>\n",
       "      <td>APPLE iPhone 11 Pro Max (Midnight Green, 64 GB)</td>\n",
       "      <td>https://www.flipkart.com/apple-iphone-11-pro-m...</td>\n",
       "      <td>Apple</td>\n",
       "      <td>117100</td>\n",
       "      <td>117100</td>\n",
       "      <td>0</td>\n",
       "      <td>1078</td>\n",
       "      <td>101</td>\n",
       "      <td>MOBFKCTSRYPAQNYT</td>\n",
       "      <td>4.7</td>\n",
       "      <td>4 GB</td>\n",
       "    </tr>\n",
       "    <tr>\n",
       "      <th>17</th>\n",
       "      <td>APPLE iPhone 11 Pro Max (Space Grey, 64 GB)</td>\n",
       "      <td>https://www.flipkart.com/apple-iphone-11-pro-m...</td>\n",
       "      <td>Apple</td>\n",
       "      <td>117100</td>\n",
       "      <td>117100</td>\n",
       "      <td>0</td>\n",
       "      <td>1078</td>\n",
       "      <td>101</td>\n",
       "      <td>MOBFKCTSKDMKCGQS</td>\n",
       "      <td>4.7</td>\n",
       "      <td>4 GB</td>\n",
       "    </tr>\n",
       "    <tr>\n",
       "      <th>16</th>\n",
       "      <td>APPLE iPhone 11 Pro Max (Midnight Green, 256 GB)</td>\n",
       "      <td>https://www.flipkart.com/apple-iphone-11-pro-m...</td>\n",
       "      <td>Apple</td>\n",
       "      <td>131900</td>\n",
       "      <td>131900</td>\n",
       "      <td>0</td>\n",
       "      <td>1078</td>\n",
       "      <td>101</td>\n",
       "      <td>MOBFKCTSCAAKGQV7</td>\n",
       "      <td>4.7</td>\n",
       "      <td>4 GB</td>\n",
       "    </tr>\n",
       "    <tr>\n",
       "      <th>15</th>\n",
       "      <td>APPLE iPhone 11 Pro Max (Gold, 64 GB)</td>\n",
       "      <td>https://www.flipkart.com/apple-iphone-11-pro-m...</td>\n",
       "      <td>Apple</td>\n",
       "      <td>117100</td>\n",
       "      <td>117100</td>\n",
       "      <td>0</td>\n",
       "      <td>1078</td>\n",
       "      <td>101</td>\n",
       "      <td>MOBFKCTSAPAYNSGG</td>\n",
       "      <td>4.7</td>\n",
       "      <td>4 GB</td>\n",
       "    </tr>\n",
       "    <tr>\n",
       "      <th>14</th>\n",
       "      <td>APPLE iPhone 11 Pro Max (Gold, 256 GB)</td>\n",
       "      <td>https://www.flipkart.com/apple-iphone-11-pro-m...</td>\n",
       "      <td>Apple</td>\n",
       "      <td>131900</td>\n",
       "      <td>131900</td>\n",
       "      <td>0</td>\n",
       "      <td>1078</td>\n",
       "      <td>101</td>\n",
       "      <td>MOBFKCTS7HCHSPFH</td>\n",
       "      <td>4.7</td>\n",
       "      <td>4 GB</td>\n",
       "    </tr>\n",
       "    <tr>\n",
       "      <th>0</th>\n",
       "      <td>APPLE iPhone 8 Plus (Gold, 64 GB)</td>\n",
       "      <td>https://www.flipkart.com/apple-iphone-8-plus-g...</td>\n",
       "      <td>Apple</td>\n",
       "      <td>49900</td>\n",
       "      <td>49900</td>\n",
       "      <td>0</td>\n",
       "      <td>3431</td>\n",
       "      <td>356</td>\n",
       "      <td>MOBEXRGV7EHHTGUH</td>\n",
       "      <td>4.6</td>\n",
       "      <td>2 GB</td>\n",
       "    </tr>\n",
       "    <tr>\n",
       "      <th>29</th>\n",
       "      <td>APPLE iPhone 12 (White, 128 GB)</td>\n",
       "      <td>https://www.flipkart.com/apple-iphone-12-white...</td>\n",
       "      <td>Apple</td>\n",
       "      <td>75900</td>\n",
       "      <td>84900</td>\n",
       "      <td>10</td>\n",
       "      <td>2101</td>\n",
       "      <td>180</td>\n",
       "      <td>MOBFWBYZBTZFGJF9</td>\n",
       "      <td>4.6</td>\n",
       "      <td>6 GB</td>\n",
       "    </tr>\n",
       "    <tr>\n",
       "      <th>32</th>\n",
       "      <td>APPLE iPhone 12 Pro Max (Graphite, 128 GB)</td>\n",
       "      <td>https://www.flipkart.com/apple-iphone-12-pro-m...</td>\n",
       "      <td>Apple</td>\n",
       "      <td>120900</td>\n",
       "      <td>129900</td>\n",
       "      <td>6</td>\n",
       "      <td>580</td>\n",
       "      <td>45</td>\n",
       "      <td>MOBFWBYZFDGQSDWS</td>\n",
       "      <td>4.6</td>\n",
       "      <td>6 GB</td>\n",
       "    </tr>\n",
       "    <tr>\n",
       "      <th>35</th>\n",
       "      <td>APPLE iPhone 12 (Black, 128 GB)</td>\n",
       "      <td>https://www.flipkart.com/apple-iphone-12-black...</td>\n",
       "      <td>Apple</td>\n",
       "      <td>75900</td>\n",
       "      <td>84900</td>\n",
       "      <td>10</td>\n",
       "      <td>2101</td>\n",
       "      <td>180</td>\n",
       "      <td>MOBFWBYZK3HACR72</td>\n",
       "      <td>4.6</td>\n",
       "      <td>6 GB</td>\n",
       "    </tr>\n",
       "    <tr>\n",
       "      <th>36</th>\n",
       "      <td>APPLE iPhone 12 (Blue, 128 GB)</td>\n",
       "      <td>https://www.flipkart.com/apple-iphone-12-blue-...</td>\n",
       "      <td>Apple</td>\n",
       "      <td>75900</td>\n",
       "      <td>84900</td>\n",
       "      <td>10</td>\n",
       "      <td>2101</td>\n",
       "      <td>180</td>\n",
       "      <td>MOBFWBYZKPTZF9VG</td>\n",
       "      <td>4.6</td>\n",
       "      <td>6 GB</td>\n",
       "    </tr>\n",
       "  </tbody>\n",
       "</table>\n",
       "</div>"
      ],
      "text/plain": [
       "                                        Product Name  \\\n",
       "20   APPLE iPhone 11 Pro Max (Midnight Green, 64 GB)   \n",
       "17       APPLE iPhone 11 Pro Max (Space Grey, 64 GB)   \n",
       "16  APPLE iPhone 11 Pro Max (Midnight Green, 256 GB)   \n",
       "15             APPLE iPhone 11 Pro Max (Gold, 64 GB)   \n",
       "14            APPLE iPhone 11 Pro Max (Gold, 256 GB)   \n",
       "0                  APPLE iPhone 8 Plus (Gold, 64 GB)   \n",
       "29                   APPLE iPhone 12 (White, 128 GB)   \n",
       "32        APPLE iPhone 12 Pro Max (Graphite, 128 GB)   \n",
       "35                   APPLE iPhone 12 (Black, 128 GB)   \n",
       "36                    APPLE iPhone 12 (Blue, 128 GB)   \n",
       "\n",
       "                                          Product URL  Brand  Sale Price  \\\n",
       "20  https://www.flipkart.com/apple-iphone-11-pro-m...  Apple      117100   \n",
       "17  https://www.flipkart.com/apple-iphone-11-pro-m...  Apple      117100   \n",
       "16  https://www.flipkart.com/apple-iphone-11-pro-m...  Apple      131900   \n",
       "15  https://www.flipkart.com/apple-iphone-11-pro-m...  Apple      117100   \n",
       "14  https://www.flipkart.com/apple-iphone-11-pro-m...  Apple      131900   \n",
       "0   https://www.flipkart.com/apple-iphone-8-plus-g...  Apple       49900   \n",
       "29  https://www.flipkart.com/apple-iphone-12-white...  Apple       75900   \n",
       "32  https://www.flipkart.com/apple-iphone-12-pro-m...  Apple      120900   \n",
       "35  https://www.flipkart.com/apple-iphone-12-black...  Apple       75900   \n",
       "36  https://www.flipkart.com/apple-iphone-12-blue-...  Apple       75900   \n",
       "\n",
       "       Mrp  Discount Percentage  Number Of Ratings  Number Of Reviews  \\\n",
       "20  117100                    0               1078                101   \n",
       "17  117100                    0               1078                101   \n",
       "16  131900                    0               1078                101   \n",
       "15  117100                    0               1078                101   \n",
       "14  131900                    0               1078                101   \n",
       "0    49900                    0               3431                356   \n",
       "29   84900                   10               2101                180   \n",
       "32  129900                    6                580                 45   \n",
       "35   84900                   10               2101                180   \n",
       "36   84900                   10               2101                180   \n",
       "\n",
       "                 Upc  Star Rating   Ram  \n",
       "20  MOBFKCTSRYPAQNYT          4.7  4 GB  \n",
       "17  MOBFKCTSKDMKCGQS          4.7  4 GB  \n",
       "16  MOBFKCTSCAAKGQV7          4.7  4 GB  \n",
       "15  MOBFKCTSAPAYNSGG          4.7  4 GB  \n",
       "14  MOBFKCTS7HCHSPFH          4.7  4 GB  \n",
       "0   MOBEXRGV7EHHTGUH          4.6  2 GB  \n",
       "29  MOBFWBYZBTZFGJF9          4.6  6 GB  \n",
       "32  MOBFWBYZFDGQSDWS          4.6  6 GB  \n",
       "35  MOBFWBYZK3HACR72          4.6  6 GB  \n",
       "36  MOBFWBYZKPTZF9VG          4.6  6 GB  "
      ]
     },
     "execution_count": 9,
     "metadata": {},
     "output_type": "execute_result"
    }
   ],
   "source": [
    "Find_highest_rated = df.sort_values(by = 'Star Rating', ascending = False)\n",
    "highest_rated = Find_highest_rated.head(10)\n",
    "highest_rated"
   ]
  },
  {
   "cell_type": "code",
   "execution_count": 10,
   "id": "7e2fd8fd-fcd6-4e6c-8372-bdf66195cbe1",
   "metadata": {},
   "outputs": [
    {
     "name": "stdout",
     "output_type": "stream",
     "text": [
      "20     APPLE iPhone 11 Pro Max (Midnight Green, 64 GB)\n",
      "17         APPLE iPhone 11 Pro Max (Space Grey, 64 GB)\n",
      "16    APPLE iPhone 11 Pro Max (Midnight Green, 256 GB)\n",
      "15               APPLE iPhone 11 Pro Max (Gold, 64 GB)\n",
      "14              APPLE iPhone 11 Pro Max (Gold, 256 GB)\n",
      "0                    APPLE iPhone 8 Plus (Gold, 64 GB)\n",
      "29                     APPLE iPhone 12 (White, 128 GB)\n",
      "32          APPLE iPhone 12 Pro Max (Graphite, 128 GB)\n",
      "35                     APPLE iPhone 12 (Black, 128 GB)\n",
      "36                      APPLE iPhone 12 (Blue, 128 GB)\n",
      "Name: Product Name, dtype: object\n"
     ]
    }
   ],
   "source": [
    "print(highest_rated['Product Name'])"
   ]
  },
  {
   "cell_type": "code",
   "execution_count": 11,
   "id": "f0f40f6b-b4ca-4282-95aa-7c9b0298c16b",
   "metadata": {},
   "outputs": [
    {
     "name": "stdout",
     "output_type": "stream",
     "text": [
      "                                        Product Name  \\\n",
      "20   APPLE iPhone 11 Pro Max (Midnight Green, 64 GB)   \n",
      "17       APPLE iPhone 11 Pro Max (Space Grey, 64 GB)   \n",
      "16  APPLE iPhone 11 Pro Max (Midnight Green, 256 GB)   \n",
      "15             APPLE iPhone 11 Pro Max (Gold, 64 GB)   \n",
      "14            APPLE iPhone 11 Pro Max (Gold, 256 GB)   \n",
      "0                  APPLE iPhone 8 Plus (Gold, 64 GB)   \n",
      "29                   APPLE iPhone 12 (White, 128 GB)   \n",
      "32        APPLE iPhone 12 Pro Max (Graphite, 128 GB)   \n",
      "35                   APPLE iPhone 12 (Black, 128 GB)   \n",
      "36                    APPLE iPhone 12 (Blue, 128 GB)   \n",
      "\n",
      "                                          Product URL  Brand  Sale Price  \\\n",
      "20  https://www.flipkart.com/apple-iphone-11-pro-m...  Apple      117100   \n",
      "17  https://www.flipkart.com/apple-iphone-11-pro-m...  Apple      117100   \n",
      "16  https://www.flipkart.com/apple-iphone-11-pro-m...  Apple      131900   \n",
      "15  https://www.flipkart.com/apple-iphone-11-pro-m...  Apple      117100   \n",
      "14  https://www.flipkart.com/apple-iphone-11-pro-m...  Apple      131900   \n",
      "0   https://www.flipkart.com/apple-iphone-8-plus-g...  Apple       49900   \n",
      "29  https://www.flipkart.com/apple-iphone-12-white...  Apple       75900   \n",
      "32  https://www.flipkart.com/apple-iphone-12-pro-m...  Apple      120900   \n",
      "35  https://www.flipkart.com/apple-iphone-12-black...  Apple       75900   \n",
      "36  https://www.flipkart.com/apple-iphone-12-blue-...  Apple       75900   \n",
      "\n",
      "       Mrp  Discount Percentage  Number Of Ratings  Number Of Reviews  \\\n",
      "20  117100                    0               1078                101   \n",
      "17  117100                    0               1078                101   \n",
      "16  131900                    0               1078                101   \n",
      "15  117100                    0               1078                101   \n",
      "14  131900                    0               1078                101   \n",
      "0    49900                    0               3431                356   \n",
      "29   84900                   10               2101                180   \n",
      "32  129900                    6                580                 45   \n",
      "35   84900                   10               2101                180   \n",
      "36   84900                   10               2101                180   \n",
      "\n",
      "                 Upc  Star Rating   Ram  \n",
      "20  MOBFKCTSRYPAQNYT          4.7  4 GB  \n",
      "17  MOBFKCTSKDMKCGQS          4.7  4 GB  \n",
      "16  MOBFKCTSCAAKGQV7          4.7  4 GB  \n",
      "15  MOBFKCTSAPAYNSGG          4.7  4 GB  \n",
      "14  MOBFKCTS7HCHSPFH          4.7  4 GB  \n",
      "0   MOBEXRGV7EHHTGUH          4.6  2 GB  \n",
      "29  MOBFWBYZBTZFGJF9          4.6  6 GB  \n",
      "32  MOBFWBYZFDGQSDWS          4.6  6 GB  \n",
      "35  MOBFWBYZK3HACR72          4.6  6 GB  \n",
      "36  MOBFWBYZKPTZF9VG          4.6  6 GB  \n"
     ]
    }
   ],
   "source": [
    "print(highest_rated)"
   ]
  },
  {
   "cell_type": "markdown",
   "id": "7538a3f3-6ff7-44a6-b974-88b412e98e83",
   "metadata": {},
   "source": [
    "<span style=\"font-size: 24px; font-weight: bold;\">How many ratings do the highest-rated iPhone on Flipkart have?</span>"
   ]
  },
  {
   "cell_type": "code",
   "execution_count": 12,
   "id": "2b38c90d-87a7-474f-aee9-cf45313f18b7",
   "metadata": {},
   "outputs": [
    {
     "name": "stdout",
     "output_type": "stream",
     "text": [
      "Product Name\n",
      "APPLE iPhone 11 Pro Max (Midnight Green, 64 GB)     1\n",
      "APPLE iPhone 11 Pro Max (Space Grey, 64 GB)         1\n",
      "APPLE iPhone 11 Pro Max (Midnight Green, 256 GB)    1\n",
      "APPLE iPhone 11 Pro Max (Gold, 64 GB)               1\n",
      "APPLE iPhone 11 Pro Max (Gold, 256 GB)              1\n",
      "APPLE iPhone 8 Plus (Gold, 64 GB)                   1\n",
      "APPLE iPhone 12 (White, 128 GB)                     1\n",
      "APPLE iPhone 12 Pro Max (Graphite, 128 GB)          1\n",
      "APPLE iPhone 12 (Black, 128 GB)                     1\n",
      "APPLE iPhone 12 (Blue, 128 GB)                      1\n"
     ]
    }
   ],
   "source": [
    "iPhone_name = highest_rated['Product Name'].value_counts()\n",
    "print(iPhone_name.to_string())"
   ]
  },
  {
   "cell_type": "code",
   "execution_count": 13,
   "id": "2a814a98-956c-492a-8bcc-392939f31db2",
   "metadata": {},
   "outputs": [
    {
     "data": {
      "image/png": "[encoded data removed]",
      "text/plain": [
       "<Figure size 1500x500 with 1 Axes>"
      ]
     },
     "metadata": {},
     "output_type": "display_data"
    }
   ],
   "source": [
    "plt.figure(figsize=(15, 5)) \n",
    "x_label = iPhone_name.index\n",
    "y_label = highest_rated['Number Of Ratings']\n",
    "plt.bar(x_label, y_label, color = '#067066')\n",
    "plt.title('No. of Ratings of Highest Rated iPhone')\n",
    "plt.xlabel('iPhone', fontsize=14, fontweight='bold')\n",
    "plt.xticks(rotation = -86, fontsize = 10)\n",
    "plt.ylabel('No. of Ratings', fontsize=14, fontweight='bold')\n",
    "\n",
    "plt.show()"
   ]
  },
  {
   "cell_type": "markdown",
   "id": "3ccc7b88-a72e-42c3-b31f-6428238e5d4c",
   "metadata": {},
   "source": [
    "<span style=\"font-size: 24px; font-weight: bold;\">Which iPhone has the highest number of reviews on flipkart?</span>"
   ]
  },
  {
   "cell_type": "code",
   "execution_count": 14,
   "id": "ca21b3b4-3075-40c2-88c3-4fe8bc74eed0",
   "metadata": {},
   "outputs": [
    {
     "data": {
      "text/html": [
       "<div>\n",
       "<style scoped>\n",
       "    .dataframe tbody tr th:only-of-type {\n",
       "        vertical-align: middle;\n",
       "    }\n",
       "\n",
       "    .dataframe tbody tr th {\n",
       "        vertical-align: top;\n",
       "    }\n",
       "\n",
       "    .dataframe thead th {\n",
       "        text-align: right;\n",
       "    }\n",
       "</style>\n",
       "<table border=\"1\" class=\"dataframe\">\n",
       "  <thead>\n",
       "    <tr style=\"text-align: right;\">\n",
       "      <th></th>\n",
       "      <th>Product Name</th>\n",
       "      <th>Product URL</th>\n",
       "      <th>Brand</th>\n",
       "      <th>Sale Price</th>\n",
       "      <th>Mrp</th>\n",
       "      <th>Discount Percentage</th>\n",
       "      <th>Number Of Ratings</th>\n",
       "      <th>Number Of Reviews</th>\n",
       "      <th>Upc</th>\n",
       "      <th>Star Rating</th>\n",
       "      <th>Ram</th>\n",
       "    </tr>\n",
       "  </thead>\n",
       "  <tbody>\n",
       "    <tr>\n",
       "      <th>23</th>\n",
       "      <td>Apple iPhone SE (White, 256 GB) (Includes EarP...</td>\n",
       "      <td>https://www.flipkart.com/apple-iphone-se-white...</td>\n",
       "      <td>Apple</td>\n",
       "      <td>44999</td>\n",
       "      <td>54900</td>\n",
       "      <td>18</td>\n",
       "      <td>95909</td>\n",
       "      <td>8161</td>\n",
       "      <td>MOBFRFXHPZCHAPEH</td>\n",
       "      <td>4.5</td>\n",
       "      <td>2 GB</td>\n",
       "    </tr>\n",
       "    <tr>\n",
       "      <th>53</th>\n",
       "      <td>APPLE iPhone SE (Black, 128 GB)</td>\n",
       "      <td>https://www.flipkart.com/apple-iphone-se-black...</td>\n",
       "      <td>Apple</td>\n",
       "      <td>34999</td>\n",
       "      <td>44900</td>\n",
       "      <td>22</td>\n",
       "      <td>95909</td>\n",
       "      <td>8161</td>\n",
       "      <td>MOBFWQ6BHUEVZPXD</td>\n",
       "      <td>4.5</td>\n",
       "      <td>2 GB</td>\n",
       "    </tr>\n",
       "    <tr>\n",
       "      <th>55</th>\n",
       "      <td>APPLE iPhone SE (Red, 128 GB)</td>\n",
       "      <td>https://www.flipkart.com/apple-iphone-se-red-1...</td>\n",
       "      <td>Apple</td>\n",
       "      <td>34999</td>\n",
       "      <td>44900</td>\n",
       "      <td>22</td>\n",
       "      <td>95909</td>\n",
       "      <td>8161</td>\n",
       "      <td>MOBFWQ6BJTVFKPEJ</td>\n",
       "      <td>4.5</td>\n",
       "      <td>2 GB</td>\n",
       "    </tr>\n",
       "    <tr>\n",
       "      <th>57</th>\n",
       "      <td>APPLE iPhone SE (Black, 64 GB)</td>\n",
       "      <td>https://www.flipkart.com/apple-iphone-se-black...</td>\n",
       "      <td>Apple</td>\n",
       "      <td>29999</td>\n",
       "      <td>39900</td>\n",
       "      <td>24</td>\n",
       "      <td>95909</td>\n",
       "      <td>8161</td>\n",
       "      <td>MOBFWQ6BR3MK7AUG</td>\n",
       "      <td>4.5</td>\n",
       "      <td>4 GB</td>\n",
       "    </tr>\n",
       "    <tr>\n",
       "      <th>52</th>\n",
       "      <td>APPLE iPhone SE (White, 64 GB)</td>\n",
       "      <td>https://www.flipkart.com/apple-iphone-se-white...</td>\n",
       "      <td>Apple</td>\n",
       "      <td>29999</td>\n",
       "      <td>39900</td>\n",
       "      <td>24</td>\n",
       "      <td>95807</td>\n",
       "      <td>8154</td>\n",
       "      <td>MOBFWQ6BGWDVGF3E</td>\n",
       "      <td>4.5</td>\n",
       "      <td>2 GB</td>\n",
       "    </tr>\n",
       "    <tr>\n",
       "      <th>54</th>\n",
       "      <td>APPLE iPhone SE (White, 128 GB)</td>\n",
       "      <td>https://www.flipkart.com/apple-iphone-se-white...</td>\n",
       "      <td>Apple</td>\n",
       "      <td>34999</td>\n",
       "      <td>44900</td>\n",
       "      <td>22</td>\n",
       "      <td>95807</td>\n",
       "      <td>8154</td>\n",
       "      <td>MOBFWQ6BJEHMUUZY</td>\n",
       "      <td>4.5</td>\n",
       "      <td>2 GB</td>\n",
       "    </tr>\n",
       "    <tr>\n",
       "      <th>11</th>\n",
       "      <td>Apple iPhone XR (Coral, 128 GB) (Includes EarP...</td>\n",
       "      <td>https://www.flipkart.com/apple-iphone-xr-coral...</td>\n",
       "      <td>Apple</td>\n",
       "      <td>41999</td>\n",
       "      <td>52900</td>\n",
       "      <td>20</td>\n",
       "      <td>79582</td>\n",
       "      <td>6804</td>\n",
       "      <td>MOBF9Z7ZS6GF5UAP</td>\n",
       "      <td>4.6</td>\n",
       "      <td>4 GB</td>\n",
       "    </tr>\n",
       "    <tr>\n",
       "      <th>13</th>\n",
       "      <td>Apple iPhone XR (White, 128 GB) (Includes EarP...</td>\n",
       "      <td>https://www.flipkart.com/apple-iphone-xr-white...</td>\n",
       "      <td>Apple</td>\n",
       "      <td>41999</td>\n",
       "      <td>52900</td>\n",
       "      <td>20</td>\n",
       "      <td>79512</td>\n",
       "      <td>6796</td>\n",
       "      <td>MOBF9Z7ZZY3HCDZZ</td>\n",
       "      <td>4.6</td>\n",
       "      <td>4 GB</td>\n",
       "    </tr>\n",
       "    <tr>\n",
       "      <th>12</th>\n",
       "      <td>Apple iPhone XR (Black, 128 GB) (Includes EarP...</td>\n",
       "      <td>https://www.flipkart.com/apple-iphone-xr-black...</td>\n",
       "      <td>Apple</td>\n",
       "      <td>41999</td>\n",
       "      <td>52900</td>\n",
       "      <td>20</td>\n",
       "      <td>79512</td>\n",
       "      <td>6796</td>\n",
       "      <td>MOBF9Z7ZYWNFGZUC</td>\n",
       "      <td>4.6</td>\n",
       "      <td>3 GB</td>\n",
       "    </tr>\n",
       "    <tr>\n",
       "      <th>9</th>\n",
       "      <td>Apple iPhone XR ((PRODUCT)RED, 128 GB) (Includ...</td>\n",
       "      <td>https://www.flipkart.com/apple-iphone-xr-produ...</td>\n",
       "      <td>Apple</td>\n",
       "      <td>41999</td>\n",
       "      <td>52900</td>\n",
       "      <td>20</td>\n",
       "      <td>79512</td>\n",
       "      <td>6796</td>\n",
       "      <td>MOBF9Z7ZHQC23PWQ</td>\n",
       "      <td>4.6</td>\n",
       "      <td>4 GB</td>\n",
       "    </tr>\n",
       "  </tbody>\n",
       "</table>\n",
       "</div>"
      ],
      "text/plain": [
       "                                         Product Name  \\\n",
       "23  Apple iPhone SE (White, 256 GB) (Includes EarP...   \n",
       "53                    APPLE iPhone SE (Black, 128 GB)   \n",
       "55                      APPLE iPhone SE (Red, 128 GB)   \n",
       "57                     APPLE iPhone SE (Black, 64 GB)   \n",
       "52                     APPLE iPhone SE (White, 64 GB)   \n",
       "54                    APPLE iPhone SE (White, 128 GB)   \n",
       "11  Apple iPhone XR (Coral, 128 GB) (Includes EarP...   \n",
       "13  Apple iPhone XR (White, 128 GB) (Includes EarP...   \n",
       "12  Apple iPhone XR (Black, 128 GB) (Includes EarP...   \n",
       "9   Apple iPhone XR ((PRODUCT)RED, 128 GB) (Includ...   \n",
       "\n",
       "                                          Product URL  Brand  Sale Price  \\\n",
       "23  https://www.flipkart.com/apple-iphone-se-white...  Apple       44999   \n",
       "53  https://www.flipkart.com/apple-iphone-se-black...  Apple       34999   \n",
       "55  https://www.flipkart.com/apple-iphone-se-red-1...  Apple       34999   \n",
       "57  https://www.flipkart.com/apple-iphone-se-black...  Apple       29999   \n",
       "52  https://www.flipkart.com/apple-iphone-se-white...  Apple       29999   \n",
       "54  https://www.flipkart.com/apple-iphone-se-white...  Apple       34999   \n",
       "11  https://www.flipkart.com/apple-iphone-xr-coral...  Apple       41999   \n",
       "13  https://www.flipkart.com/apple-iphone-xr-white...  Apple       41999   \n",
       "12  https://www.flipkart.com/apple-iphone-xr-black...  Apple       41999   \n",
       "9   https://www.flipkart.com/apple-iphone-xr-produ...  Apple       41999   \n",
       "\n",
       "      Mrp  Discount Percentage  Number Of Ratings  Number Of Reviews  \\\n",
       "23  54900                   18              95909               8161   \n",
       "53  44900                   22              95909               8161   \n",
       "55  44900                   22              95909               8161   \n",
       "57  39900                   24              95909               8161   \n",
       "52  39900                   24              95807               8154   \n",
       "54  44900                   22              95807               8154   \n",
       "11  52900                   20              79582               6804   \n",
       "13  52900                   20              79512               6796   \n",
       "12  52900                   20              79512               6796   \n",
       "9   52900                   20              79512               6796   \n",
       "\n",
       "                 Upc  Star Rating   Ram  \n",
       "23  MOBFRFXHPZCHAPEH          4.5  2 GB  \n",
       "53  MOBFWQ6BHUEVZPXD          4.5  2 GB  \n",
       "55  MOBFWQ6BJTVFKPEJ          4.5  2 GB  \n",
       "57  MOBFWQ6BR3MK7AUG          4.5  4 GB  \n",
       "52  MOBFWQ6BGWDVGF3E          4.5  2 GB  \n",
       "54  MOBFWQ6BJEHMUUZY          4.5  2 GB  \n",
       "11  MOBF9Z7ZS6GF5UAP          4.6  4 GB  \n",
       "13  MOBF9Z7ZZY3HCDZZ          4.6  4 GB  \n",
       "12  MOBF9Z7ZYWNFGZUC          4.6  3 GB  \n",
       "9   MOBF9Z7ZHQC23PWQ          4.6  4 GB  "
      ]
     },
     "execution_count": 14,
     "metadata": {},
     "output_type": "execute_result"
    }
   ],
   "source": [
    "Find_highest_reviews = df.sort_values(by = 'Number Of Reviews', ascending = False)\n",
    "highest_reviews = Find_highest_reviews.head(10)\n",
    "highest_reviews"
   ]
  },
  {
   "cell_type": "code",
   "execution_count": 15,
   "id": "fa7ff8b0-0f9b-48f1-b974-b39b514269ae",
   "metadata": {},
   "outputs": [
    {
     "data": {
      "text/plain": [
       "23    Apple iPhone SE (White, 256 GB) (Includes EarP...\n",
       "53                      APPLE iPhone SE (Black, 128 GB)\n",
       "55                        APPLE iPhone SE (Red, 128 GB)\n",
       "57                       APPLE iPhone SE (Black, 64 GB)\n",
       "52                       APPLE iPhone SE (White, 64 GB)\n",
       "54                      APPLE iPhone SE (White, 128 GB)\n",
       "11    Apple iPhone XR (Coral, 128 GB) (Includes EarP...\n",
       "13    Apple iPhone XR (White, 128 GB) (Includes EarP...\n",
       "12    Apple iPhone XR (Black, 128 GB) (Includes EarP...\n",
       "9     Apple iPhone XR ((PRODUCT)RED, 128 GB) (Includ...\n",
       "Name: Product Name, dtype: object"
      ]
     },
     "execution_count": 15,
     "metadata": {},
     "output_type": "execute_result"
    }
   ],
   "source": [
    "highest_reviews['Product Name']"
   ]
  },
  {
   "cell_type": "code",
   "execution_count": 16,
   "id": "8a50821f-ac67-40d6-85dc-37cdc2b45ebe",
   "metadata": {},
   "outputs": [
    {
     "data": {
      "image/png": "[encoded data removed]",
      "text/plain": [
       "<Figure size 1500x500 with 1 Axes>"
      ]
     },
     "metadata": {},
     "output_type": "display_data"
    }
   ],
   "source": [
    "plt.figure(figsize=(15, 5)) \n",
    "x_label = iPhone_name.index\n",
    "y_label = highest_reviews['Number Of Reviews']\n",
    "plt.bar(x_label, y_label, color = '#067066', width = 0.6)\n",
    "plt.title('Highest Number of Reviews')\n",
    "plt.xlabel('iPhone', fontsize=14 ,fontweight='bold')\n",
    "plt.xticks(rotation = -86, fontsize = 10)\n",
    "plt.ylabel('No. of Reviews', fontsize=14 ,fontweight='bold')\n",
    "\n",
    "plt.show()"
   ]
  },
  {
   "cell_type": "markdown",
   "id": "40624a5c-7b42-44df-af96-066daba70c32",
   "metadata": {},
   "source": [
    "<span style=\"font-size: 24px; font-weight: bold;\">Relationship between the sale price of iPhones and the number of ratings on flipkart</span>"
   ]
  },
  {
   "cell_type": "code",
   "execution_count": 17,
   "id": "65f153af-4dd3-439a-851d-a743bd01d12d",
   "metadata": {},
   "outputs": [
    {
     "data": {
      "image/png": "[encoded data removed]",
      "text/plain": [
       "<Figure size 1000x500 with 1 Axes>"
      ]
     },
     "metadata": {},
     "output_type": "display_data"
    }
   ],
   "source": [
    "plt.figure(figsize=(10, 5)) \n",
    "x_label = df['Number Of Ratings']\n",
    "y_label = df['Sale Price']\n",
    "plt.scatter(x_label, y_label, s=df['Discount Percentage'] * 10, color='#7b39f5', alpha=0.6, edgecolors='black') #alpha: controls transparency, s: Bubble size\n",
    "plt.title('Number of Ratings vs Sale Price')\n",
    "plt.xlabel('No of Ratings', fontsize=14 ,fontweight='bold')\n",
    "plt.ylabel('Sale Price', fontsize=14 ,fontweight='bold')\n",
    "\n",
    "plt.show()"
   ]
  },
  {
   "cell_type": "code",
   "execution_count": 21,
   "id": "4797a116-2a69-4479-b36d-d03a87311047",
   "metadata": {},
   "outputs": [
    {
     "data": {
      "application/vnd.plotly.v1+json": {
       "config": {
        "plotlyServerURL": "https://plot.ly"
       },
       "data": [
        {
         "hovertemplate": "Number Of Ratings=%{x}<br>Sale Price=%{y}<br>Discount Percentage=%{marker.size}<extra></extra>",
         "legendgroup": "",
         "marker": {
          "color": "#f06804",
          "opacity": 0.6,
          "size": [
           0,
           0,
           0,
           0,
           0,
           0,
           0,
           0,
           0,
           20,
           16,
           20,
           20,
           20,
           0,
           0,
           0,
           0,
           29,
           15,
           0,
           15,
           17,
           18,
           6,
           6,
           13,
           6,
           14,
           10,
           7,
           6,
           6,
           13,
           13,
           10,
           10,
           6,
           14,
           6,
           10,
           6,
           11,
           11,
           10,
           14,
           7,
           6,
           6,
           6,
           8,
           8,
           24,
           22,
           22,
           22,
           8,
           24,
           14,
           14,
           14,
           14
          ],
          "sizemode": "area",
          "sizeref": 0.0725,
          "symbol": "circle"
         },
         "mode": "markers",
         "name": "",
         "orientation": "v",
         "showlegend": false,
         "type": "scatter",
         "x": [
          3431,
          3431,
          3431,
          11202,
          11202,
          3431,
          3431,
          11202,
          1454,
          79512,
          79512,
          79582,
          79512,
          79512,
          1078,
          1078,
          1078,
          1078,
          7088,
          7088,
          1078,
          7088,
          7081,
          95909,
          542,
          580,
          740,
          545,
          740,
          2101,
          545,
          580,
          580,
          730,
          730,
          2101,
          2101,
          580,
          740,
          580,
          2092,
          545,
          2101,
          2092,
          2101,
          740,
          545,
          580,
          580,
          580,
          43707,
          43707,
          95807,
          95909,
          95807,
          95909,
          43470,
          95909,
          43470,
          43470,
          43470,
          43470
         ],
         "xaxis": "x",
         "y": [
          49900,
          84900,
          84900,
          77000,
          77000,
          49900,
          49900,
          77000,
          89900,
          41999,
          39999,
          41999,
          41999,
          41999,
          131900,
          117100,
          131900,
          117100,
          74999,
          117900,
          117100,
          117900,
          99900,
          44999,
          140900,
          130900,
          64900,
          120900,
          59900,
          75900,
          110900,
          130900,
          120900,
          64900,
          64900,
          75900,
          75900,
          120900,
          59900,
          120900,
          75900,
          140900,
          70900,
          70900,
          75900,
          59900,
          110900,
          120900,
          130900,
          130900,
          54999,
          54999,
          29999,
          34999,
          34999,
          34999,
          54999,
          29999,
          46999,
          46999,
          46999,
          46999
         ],
         "yaxis": "y"
        },
        {
         "hovertemplate": "<b>OLS trendline</b><br>Sale Price = -0.712783 * Number Of Ratings + 96054.8<br>R<sup>2</sup>=0.492139<br><br>Number Of Ratings=%{x}<br>Sale Price=%{y} <b>(trend)</b><extra></extra>",
         "legendgroup": "",
         "marker": {
          "color": "#f06804",
          "symbol": "circle"
         },
         "mode": "lines",
         "name": "",
         "showlegend": false,
         "type": "scatter",
         "x": [
          542,
          545,
          545,
          545,
          545,
          580,
          580,
          580,
          580,
          580,
          580,
          580,
          580,
          730,
          730,
          740,
          740,
          740,
          740,
          1078,
          1078,
          1078,
          1078,
          1078,
          1454,
          2092,
          2092,
          2101,
          2101,
          2101,
          2101,
          2101,
          3431,
          3431,
          3431,
          3431,
          3431,
          7081,
          7088,
          7088,
          7088,
          11202,
          11202,
          11202,
          43470,
          43470,
          43470,
          43470,
          43470,
          43707,
          43707,
          79512,
          79512,
          79512,
          79512,
          79582,
          95807,
          95807,
          95909,
          95909,
          95909,
          95909
         ],
         "xaxis": "x",
         "y": [
          95668.43493113318,
          95666.29658296306,
          95666.29658296306,
          95666.29658296306,
          95666.29658296306,
          95641.34918764498,
          95641.34918764498,
          95641.34918764498,
          95641.34918764498,
          95641.34918764498,
          95641.34918764498,
          95641.34918764498,
          95641.34918764498,
          95534.43177913892,
          95534.43177913892,
          95527.30395190518,
          95527.30395190518,
          95527.30395190518,
          95527.30395190518,
          95286.38339140486,
          95286.38339140486,
          95286.38339140486,
          95286.38339140486,
          95286.38339140486,
          95018.37708741635,
          94563.62170990389,
          94563.62170990389,
          94557.20666539353,
          94557.20666539353,
          94557.20666539353,
          94557.20666539353,
          94557.20666539353,
          93609.20564330647,
          93609.20564330647,
          93609.20564330647,
          93609.20564330647,
          93609.20564330647,
          91007.54870299235,
          91002.55922392874,
          91002.55922392874,
          91002.55922392874,
          88070.1710999692,
          88070.1710999692,
          88070.1710999692,
          65070.09818214562,
          65070.09818214562,
          65070.09818214562,
          65070.09818214562,
          65070.09818214562,
          64901.168676706046,
          64901.168676706046,
          39379.98326630958,
          39379.98326630958,
          39379.98326630958,
          39379.98326630958,
          39330.088475673416,
          27765.188788934625,
          27765.188788934625,
          27692.4849511505,
          27692.4849511505,
          27692.4849511505,
          27692.4849511505
         ],
         "yaxis": "y"
        }
       ],
       "layout": {
        "height": 600,
        "legend": {
         "itemsizing": "constant",
         "tracegroupgap": 0
        },
        "template": {
         "data": {
          "bar": [
           {
            "error_x": {
             "color": "#2a3f5f"
            },
            "error_y": {
             "color": "#2a3f5f"
            },
            "marker": {
             "line": {
              "color": "#E5ECF6",
              "width": 0.5
             },
             "pattern": {
              "fillmode": "overlay",
              "size": 10,
              "solidity": 0.2
             }
            },
            "type": "bar"
           }
          ],
          "barpolar": [
           {
            "marker": {
             "line": {
              "color": "#E5ECF6",
              "width": 0.5
             },
             "pattern": {
              "fillmode": "overlay",
              "size": 10,
              "solidity": 0.2
             }
            },
            "type": "barpolar"
           }
          ],
          "carpet": [
           {
            "aaxis": {
             "endlinecolor": "#2a3f5f",
             "gridcolor": "white",
             "linecolor": "white",
             "minorgridcolor": "white",
             "startlinecolor": "#2a3f5f"
            },
            "baxis": {
             "endlinecolor": "#2a3f5f",
             "gridcolor": "white",
             "linecolor": "white",
             "minorgridcolor": "white",
             "startlinecolor": "#2a3f5f"
            },
            "type": "carpet"
           }
          ],
          "choropleth": [
           {
            "colorbar": {
             "outlinewidth": 0,
             "ticks": ""
            },
            "type": "choropleth"
           }
          ],
          "contour": [
           {
            "colorbar": {
             "outlinewidth": 0,
             "ticks": ""
            },
            "colorscale": [
             [
              0,
              "#0d0887"
             ],
             [
              0.1111111111111111,
              "#46039f"
             ],
             [
              0.2222222222222222,
              "#7201a8"
             ],
             [
              0.3333333333333333,
              "#9c179e"
             ],
             [
              0.4444444444444444,
              "#bd3786"
             ],
             [
              0.5555555555555556,
              "#d8576b"
             ],
             [
              0.6666666666666666,
              "#ed7953"
             ],
             [
              0.7777777777777778,
              "#fb9f3a"
             ],
             [
              0.8888888888888888,
              "#fdca26"
             ],
             [
              1,
              "#f0f921"
             ]
            ],
            "type": "contour"
           }
          ],
          "contourcarpet": [
           {
            "colorbar": {
             "outlinewidth": 0,
             "ticks": ""
            },
            "type": "contourcarpet"
           }
          ],
          "heatmap": [
           {
            "colorbar": {
             "outlinewidth": 0,
             "ticks": ""
            },
            "colorscale": [
             [
              0,
              "#0d0887"
             ],
             [
              0.1111111111111111,
              "#46039f"
             ],
             [
              0.2222222222222222,
              "#7201a8"
             ],
             [
              0.3333333333333333,
              "#9c179e"
             ],
             [
              0.4444444444444444,
              "#bd3786"
             ],
             [
              0.5555555555555556,
              "#d8576b"
             ],
             [
              0.6666666666666666,
              "#ed7953"
             ],
             [
              0.7777777777777778,
              "#fb9f3a"
             ],
             [
              0.8888888888888888,
              "#fdca26"
             ],
             [
              1,
              "#f0f921"
             ]
            ],
            "type": "heatmap"
           }
          ],
          "heatmapgl": [
           {
            "colorbar": {
             "outlinewidth": 0,
             "ticks": ""
            },
            "colorscale": [
             [
              0,
              "#0d0887"
             ],
             [
              0.1111111111111111,
              "#46039f"
             ],
             [
              0.2222222222222222,
              "#7201a8"
             ],
             [
              0.3333333333333333,
              "#9c179e"
             ],
             [
              0.4444444444444444,
              "#bd3786"
             ],
             [
              0.5555555555555556,
              "#d8576b"
             ],
             [
              0.6666666666666666,
              "#ed7953"
             ],
             [
              0.7777777777777778,
              "#fb9f3a"
             ],
             [
              0.8888888888888888,
              "#fdca26"
             ],
             [
              1,
              "#f0f921"
             ]
            ],
            "type": "heatmapgl"
           }
          ],
          "histogram": [
           {
            "marker": {
             "pattern": {
              "fillmode": "overlay",
              "size": 10,
              "solidity": 0.2
             }
            },
            "type": "histogram"
           }
          ],
          "histogram2d": [
           {
            "colorbar": {
             "outlinewidth": 0,
             "ticks": ""
            },
            "colorscale": [
             [
              0,
              "#0d0887"
             ],
             [
              0.1111111111111111,
              "#46039f"
             ],
             [
              0.2222222222222222,
              "#7201a8"
             ],
             [
              0.3333333333333333,
              "#9c179e"
             ],
             [
              0.4444444444444444,
              "#bd3786"
             ],
             [
              0.5555555555555556,
              "#d8576b"
             ],
             [
              0.6666666666666666,
              "#ed7953"
             ],
             [
              0.7777777777777778,
              "#fb9f3a"
             ],
             [
              0.8888888888888888,
              "#fdca26"
             ],
             [
              1,
              "#f0f921"
             ]
            ],
            "type": "histogram2d"
           }
          ],
          "histogram2dcontour": [
           {
            "colorbar": {
             "outlinewidth": 0,
             "ticks": ""
            },
            "colorscale": [
             [
              0,
              "#0d0887"
             ],
             [
              0.1111111111111111,
              "#46039f"
             ],
             [
              0.2222222222222222,
              "#7201a8"
             ],
             [
              0.3333333333333333,
              "#9c179e"
             ],
             [
              0.4444444444444444,
              "#bd3786"
             ],
             [
              0.5555555555555556,
              "#d8576b"
             ],
             [
              0.6666666666666666,
              "#ed7953"
             ],
             [
              0.7777777777777778,
              "#fb9f3a"
             ],
             [
              0.8888888888888888,
              "#fdca26"
             ],
             [
              1,
              "#f0f921"
             ]
            ],
            "type": "histogram2dcontour"
           }
          ],
          "mesh3d": [
           {
            "colorbar": {
             "outlinewidth": 0,
             "ticks": ""
            },
            "type": "mesh3d"
           }
          ],
          "parcoords": [
           {
            "line": {
             "colorbar": {
              "outlinewidth": 0,
              "ticks": ""
             }
            },
            "type": "parcoords"
           }
          ],
          "pie": [
           {
            "automargin": true,
            "type": "pie"
           }
          ],
          "scatter": [
           {
            "fillpattern": {
             "fillmode": "overlay",
             "size": 10,
             "solidity": 0.2
            },
            "type": "scatter"
           }
          ],
          "scatter3d": [
           {
            "line": {
             "colorbar": {
              "outlinewidth": 0,
              "ticks": ""
             }
            },
            "marker": {
             "colorbar": {
              "outlinewidth": 0,
              "ticks": ""
             }
            },
            "type": "scatter3d"
           }
          ],
          "scattercarpet": [
           {
            "marker": {
             "colorbar": {
              "outlinewidth": 0,
              "ticks": ""
             }
            },
            "type": "scattercarpet"
           }
          ],
          "scattergeo": [
           {
            "marker": {
             "colorbar": {
              "outlinewidth": 0,
              "ticks": ""
             }
            },
            "type": "scattergeo"
           }
          ],
          "scattergl": [
           {
            "marker": {
             "colorbar": {
              "outlinewidth": 0,
              "ticks": ""
             }
            },
            "type": "scattergl"
           }
          ],
          "scattermapbox": [
           {
            "marker": {
             "colorbar": {
              "outlinewidth": 0,
              "ticks": ""
             }
            },
            "type": "scattermapbox"
           }
          ],
          "scatterpolar": [
           {
            "marker": {
             "colorbar": {
              "outlinewidth": 0,
              "ticks": ""
             }
            },
            "type": "scatterpolar"
           }
          ],
          "scatterpolargl": [
           {
            "marker": {
             "colorbar": {
              "outlinewidth": 0,
              "ticks": ""
             }
            },
            "type": "scatterpolargl"
           }
          ],
          "scatterternary": [
           {
            "marker": {
             "colorbar": {
              "outlinewidth": 0,
              "ticks": ""
             }
            },
            "type": "scatterternary"
           }
          ],
          "surface": [
           {
            "colorbar": {
             "outlinewidth": 0,
             "ticks": ""
            },
            "colorscale": [
             [
              0,
              "#0d0887"
             ],
             [
              0.1111111111111111,
              "#46039f"
             ],
             [
              0.2222222222222222,
              "#7201a8"
             ],
             [
              0.3333333333333333,
              "#9c179e"
             ],
             [
              0.4444444444444444,
              "#bd3786"
             ],
             [
              0.5555555555555556,
              "#d8576b"
             ],
             [
              0.6666666666666666,
              "#ed7953"
             ],
             [
              0.7777777777777778,
              "#fb9f3a"
             ],
             [
              0.8888888888888888,
              "#fdca26"
             ],
             [
              1,
              "#f0f921"
             ]
            ],
            "type": "surface"
           }
          ],
          "table": [
           {
            "cells": {
             "fill": {
              "color": "#EBF0F8"
             },
             "line": {
              "color": "white"
             }
            },
            "header": {
             "fill": {
              "color": "#C8D4E3"
             },
             "line": {
              "color": "white"
             }
            },
            "type": "table"
           }
          ]
         },
         "layout": {
          "annotationdefaults": {
           "arrowcolor": "#2a3f5f",
           "arrowhead": 0,
           "arrowwidth": 1
          },
          "autotypenumbers": "strict",
          "coloraxis": {
           "colorbar": {
            "outlinewidth": 0,
            "ticks": ""
           }
          },
          "colorscale": {
           "diverging": [
            [
             0,
             "#8e0152"
            ],
            [
             0.1,
             "#c51b7d"
            ],
            [
             0.2,
             "#de77ae"
            ],
            [
             0.3,
             "#f1b6da"
            ],
            [
             0.4,
             "#fde0ef"
            ],
            [
             0.5,
             "#f7f7f7"
            ],
            [
             0.6,
             "#e6f5d0"
            ],
            [
             0.7,
             "#b8e186"
            ],
            [
             0.8,
             "#7fbc41"
            ],
            [
             0.9,
             "#4d9221"
            ],
            [
             1,
             "#276419"
            ]
           ],
           "sequential": [
            [
             0,
             "#0d0887"
            ],
            [
             0.1111111111111111,
             "#46039f"
            ],
            [
             0.2222222222222222,
             "#7201a8"
            ],
            [
             0.3333333333333333,
             "#9c179e"
            ],
            [
             0.4444444444444444,
             "#bd3786"
            ],
            [
             0.5555555555555556,
             "#d8576b"
            ],
            [
             0.6666666666666666,
             "#ed7953"
            ],
            [
             0.7777777777777778,
             "#fb9f3a"
            ],
            [
             0.8888888888888888,
             "#fdca26"
            ],
            [
             1,
             "#f0f921"
            ]
           ],
           "sequentialminus": [
            [
             0,
             "#0d0887"
            ],
            [
             0.1111111111111111,
             "#46039f"
            ],
            [
             0.2222222222222222,
             "#7201a8"
            ],
            [
             0.3333333333333333,
             "#9c179e"
            ],
            [
             0.4444444444444444,
             "#bd3786"
            ],
            [
             0.5555555555555556,
             "#d8576b"
            ],
            [
             0.6666666666666666,
             "#ed7953"
            ],
            [
             0.7777777777777778,
             "#fb9f3a"
            ],
            [
             0.8888888888888888,
             "#fdca26"
            ],
            [
             1,
             "#f0f921"
            ]
           ]
          },
          "colorway": [
           "#636efa",
           "#EF553B",
           "#00cc96",
           "#ab63fa",
           "#FFA15A",
           "#19d3f3",
           "#FF6692",
           "#B6E880",
           "#FF97FF",
           "#FECB52"
          ],
          "font": {
           "color": "#2a3f5f"
          },
          "geo": {
           "bgcolor": "white",
           "lakecolor": "white",
           "landcolor": "#E5ECF6",
           "showlakes": true,
           "showland": true,
           "subunitcolor": "white"
          },
          "hoverlabel": {
           "align": "left"
          },
          "hovermode": "closest",
          "mapbox": {
           "style": "light"
          },
          "paper_bgcolor": "white",
          "plot_bgcolor": "#E5ECF6",
          "polar": {
           "angularaxis": {
            "gridcolor": "white",
            "linecolor": "white",
            "ticks": ""
           },
           "bgcolor": "#E5ECF6",
           "radialaxis": {
            "gridcolor": "white",
            "linecolor": "white",
            "ticks": ""
           }
          },
          "scene": {
           "xaxis": {
            "backgroundcolor": "#E5ECF6",
            "gridcolor": "white",
            "gridwidth": 2,
            "linecolor": "white",
            "showbackground": true,
            "ticks": "",
            "zerolinecolor": "white"
           },
           "yaxis": {
            "backgroundcolor": "#E5ECF6",
            "gridcolor": "white",
            "gridwidth": 2,
            "linecolor": "white",
            "showbackground": true,
            "ticks": "",
            "zerolinecolor": "white"
           },
           "zaxis": {
            "backgroundcolor": "#E5ECF6",
            "gridcolor": "white",
            "gridwidth": 2,
            "linecolor": "white",
            "showbackground": true,
            "ticks": "",
            "zerolinecolor": "white"
           }
          },
          "shapedefaults": {
           "line": {
            "color": "#2a3f5f"
           }
          },
          "ternary": {
           "aaxis": {
            "gridcolor": "white",
            "linecolor": "white",
            "ticks": ""
           },
           "baxis": {
            "gridcolor": "white",
            "linecolor": "white",
            "ticks": ""
           },
           "bgcolor": "#E5ECF6",
           "caxis": {
            "gridcolor": "white",
            "linecolor": "white",
            "ticks": ""
           }
          },
          "title": {
           "x": 0.05
          },
          "xaxis": {
           "automargin": true,
           "gridcolor": "white",
           "linecolor": "white",
           "ticks": "",
           "title": {
            "standoff": 15
           },
           "zerolinecolor": "white",
           "zerolinewidth": 2
          },
          "yaxis": {
           "automargin": true,
           "gridcolor": "white",
           "linecolor": "white",
           "ticks": "",
           "title": {
            "standoff": 15
           },
           "zerolinecolor": "white",
           "zerolinewidth": 2
          }
         }
        },
        "title": {
         "font": {
          "color": "black",
          "size": 18
         },
         "text": "Number of Ratings vs Sale Price",
         "x": 0.5,
         "xanchor": "center"
        },
        "width": 1000,
        "xaxis": {
         "anchor": "y",
         "autorange": true,
         "domain": [
          0,
          1
         ],
         "range": [
          -6161.731565605675,
          103253.34350823391
         ],
         "title": {
          "font": {
           "color": "black",
           "size": 14
          },
          "text": "Number Of Ratings"
         },
         "type": "linear"
        },
        "yaxis": {
         "anchor": "x",
         "autorange": true,
         "domain": [
          0,
          1
         ],
         "range": [
          18989.337012342363,
          149671.89545489257
         ],
         "title": {
          "font": {
           "color": "black",
           "size": 14
          },
          "text": "Sale Price"
         },
         "type": "linear"
        }
       }
      },
      "image/png": "[encoded data removed]",
      "text/html": [
       "<div>                            <div id=\"ca0afdc5-43ff-4422-bfac-b05ac88b56d2\" class=\"plotly-graph-div\" style=\"height:600px; width:1000px;\"></div>            <script type=\"text/javascript\">                require([\"plotly\"], function(Plotly) {                    window.PLOTLYENV=window.PLOTLYENV || {};                                    if (document.getElementById(\"ca0afdc5-43ff-4422-bfac-b05ac88b56d2\")) {                    Plotly.newPlot(                        \"ca0afdc5-43ff-4422-bfac-b05ac88b56d2\",                        [{\"hovertemplate\":\"Number Of Ratings=%{x}\\u003cbr\\u003eSale Price=%{y}\\u003cbr\\u003eDiscount Percentage=%{marker.size}\\u003cextra\\u003e\\u003c\\u002fextra\\u003e\",\"legendgroup\":\"\",\"marker\":{\"color\":\"#f06804\",\"opacity\":0.6,\"size\":[0,0,0,0,0,0,0,0,0,20,16,20,20,20,0,0,0,0,29,15,0,15,17,18,6,6,13,6,14,10,7,6,6,13,13,10,10,6,14,6,10,6,11,11,10,14,7,6,6,6,8,8,24,22,22,22,8,24,14,14,14,14],\"sizemode\":\"area\",\"sizeref\":0.0725,\"symbol\":\"circle\"},\"mode\":\"markers\",\"name\":\"\",\"orientation\":\"v\",\"showlegend\":false,\"x\":[3431,3431,3431,11202,11202,3431,3431,11202,1454,79512,79512,79582,79512,79512,1078,1078,1078,1078,7088,7088,1078,7088,7081,95909,542,580,740,545,740,2101,545,580,580,730,730,2101,2101,580,740,580,2092,545,2101,2092,2101,740,545,580,580,580,43707,43707,95807,95909,95807,95909,43470,95909,43470,43470,43470,43470],\"xaxis\":\"x\",\"y\":[49900,84900,84900,77000,77000,49900,49900,77000,89900,41999,39999,41999,41999,41999,131900,117100,131900,117100,74999,117900,117100,117900,99900,44999,140900,130900,64900,120900,59900,75900,110900,130900,120900,64900,64900,75900,75900,120900,59900,120900,75900,140900,70900,70900,75900,59900,110900,120900,130900,130900,54999,54999,29999,34999,34999,34999,54999,29999,46999,46999,46999,46999],\"yaxis\":\"y\",\"type\":\"scatter\"},{\"hovertemplate\":\"\\u003cb\\u003eOLS trendline\\u003c\\u002fb\\u003e\\u003cbr\\u003eSale Price = -0.712783 * Number Of Ratings + 96054.8\\u003cbr\\u003eR\\u003csup\\u003e2\\u003c\\u002fsup\\u003e=0.492139\\u003cbr\\u003e\\u003cbr\\u003eNumber Of Ratings=%{x}\\u003cbr\\u003eSale Price=%{y} \\u003cb\\u003e(trend)\\u003c\\u002fb\\u003e\\u003cextra\\u003e\\u003c\\u002fextra\\u003e\",\"legendgroup\":\"\",\"marker\":{\"color\":\"#f06804\",\"symbol\":\"circle\"},\"mode\":\"lines\",\"name\":\"\",\"showlegend\":false,\"x\":[542,545,545,545,545,580,580,580,580,580,580,580,580,730,730,740,740,740,740,1078,1078,1078,1078,1078,1454,2092,2092,2101,2101,2101,2101,2101,3431,3431,3431,3431,3431,7081,7088,7088,7088,11202,11202,11202,43470,43470,43470,43470,43470,43707,43707,79512,79512,79512,79512,79582,95807,95807,95909,95909,95909,95909],\"xaxis\":\"x\",\"y\":[95668.43493113318,95666.29658296306,95666.29658296306,95666.29658296306,95666.29658296306,95641.34918764498,95641.34918764498,95641.34918764498,95641.34918764498,95641.34918764498,95641.34918764498,95641.34918764498,95641.34918764498,95534.43177913892,95534.43177913892,95527.30395190518,95527.30395190518,95527.30395190518,95527.30395190518,95286.38339140486,95286.38339140486,95286.38339140486,95286.38339140486,95286.38339140486,95018.37708741635,94563.62170990389,94563.62170990389,94557.20666539353,94557.20666539353,94557.20666539353,94557.20666539353,94557.20666539353,93609.20564330647,93609.20564330647,93609.20564330647,93609.20564330647,93609.20564330647,91007.54870299235,91002.55922392874,91002.55922392874,91002.55922392874,88070.1710999692,88070.1710999692,88070.1710999692,65070.09818214562,65070.09818214562,65070.09818214562,65070.09818214562,65070.09818214562,64901.168676706046,64901.168676706046,39379.98326630958,39379.98326630958,39379.98326630958,39379.98326630958,39330.088475673416,27765.188788934625,27765.188788934625,27692.4849511505,27692.4849511505,27692.4849511505,27692.4849511505],\"yaxis\":\"y\",\"type\":\"scatter\"}],                        {\"template\":{\"data\":{\"histogram2dcontour\":[{\"type\":\"histogram2dcontour\",\"colorbar\":{\"outlinewidth\":0,\"ticks\":\"\"},\"colorscale\":[[0.0,\"#0d0887\"],[0.1111111111111111,\"#46039f\"],[0.2222222222222222,\"#7201a8\"],[0.3333333333333333,\"#9c179e\"],[0.4444444444444444,\"#bd3786\"],[0.5555555555555556,\"#d8576b\"],[0.6666666666666666,\"#ed7953\"],[0.7777777777777778,\"#fb9f3a\"],[0.8888888888888888,\"#fdca26\"],[1.0,\"#f0f921\"]]}],\"choropleth\":[{\"type\":\"choropleth\",\"colorbar\":{\"outlinewidth\":0,\"ticks\":\"\"}}],\"histogram2d\":[{\"type\":\"histogram2d\",\"colorbar\":{\"outlinewidth\":0,\"ticks\":\"\"},\"colorscale\":[[0.0,\"#0d0887\"],[0.1111111111111111,\"#46039f\"],[0.2222222222222222,\"#7201a8\"],[0.3333333333333333,\"#9c179e\"],[0.4444444444444444,\"#bd3786\"],[0.5555555555555556,\"#d8576b\"],[0.6666666666666666,\"#ed7953\"],[0.7777777777777778,\"#fb9f3a\"],[0.8888888888888888,\"#fdca26\"],[1.0,\"#f0f921\"]]}],\"heatmap\":[{\"type\":\"heatmap\",\"colorbar\":{\"outlinewidth\":0,\"ticks\":\"\"},\"colorscale\":[[0.0,\"#0d0887\"],[0.1111111111111111,\"#46039f\"],[0.2222222222222222,\"#7201a8\"],[0.3333333333333333,\"#9c179e\"],[0.4444444444444444,\"#bd3786\"],[0.5555555555555556,\"#d8576b\"],[0.6666666666666666,\"#ed7953\"],[0.7777777777777778,\"#fb9f3a\"],[0.8888888888888888,\"#fdca26\"],[1.0,\"#f0f921\"]]}],\"heatmapgl\":[{\"type\":\"heatmapgl\",\"colorbar\":{\"outlinewidth\":0,\"ticks\":\"\"},\"colorscale\":[[0.0,\"#0d0887\"],[0.1111111111111111,\"#46039f\"],[0.2222222222222222,\"#7201a8\"],[0.3333333333333333,\"#9c179e\"],[0.4444444444444444,\"#bd3786\"],[0.5555555555555556,\"#d8576b\"],[0.6666666666666666,\"#ed7953\"],[0.7777777777777778,\"#fb9f3a\"],[0.8888888888888888,\"#fdca26\"],[1.0,\"#f0f921\"]]}],\"contourcarpet\":[{\"type\":\"contourcarpet\",\"colorbar\":{\"outlinewidth\":0,\"ticks\":\"\"}}],\"contour\":[{\"type\":\"contour\",\"colorbar\":{\"outlinewidth\":0,\"ticks\":\"\"},\"colorscale\":[[0.0,\"#0d0887\"],[0.1111111111111111,\"#46039f\"],[0.2222222222222222,\"#7201a8\"],[0.3333333333333333,\"#9c179e\"],[0.4444444444444444,\"#bd3786\"],[0.5555555555555556,\"#d8576b\"],[0.6666666666666666,\"#ed7953\"],[0.7777777777777778,\"#fb9f3a\"],[0.8888888888888888,\"#fdca26\"],[1.0,\"#f0f921\"]]}],\"surface\":[{\"type\":\"surface\",\"colorbar\":{\"outlinewidth\":0,\"ticks\":\"\"},\"colorscale\":[[0.0,\"#0d0887\"],[0.1111111111111111,\"#46039f\"],[0.2222222222222222,\"#7201a8\"],[0.3333333333333333,\"#9c179e\"],[0.4444444444444444,\"#bd3786\"],[0.5555555555555556,\"#d8576b\"],[0.6666666666666666,\"#ed7953\"],[0.7777777777777778,\"#fb9f3a\"],[0.8888888888888888,\"#fdca26\"],[1.0,\"#f0f921\"]]}],\"mesh3d\":[{\"type\":\"mesh3d\",\"colorbar\":{\"outlinewidth\":0,\"ticks\":\"\"}}],\"scatter\":[{\"fillpattern\":{\"fillmode\":\"overlay\",\"size\":10,\"solidity\":0.2},\"type\":\"scatter\"}],\"parcoords\":[{\"type\":\"parcoords\",\"line\":{\"colorbar\":{\"outlinewidth\":0,\"ticks\":\"\"}}}],\"scatterpolargl\":[{\"type\":\"scatterpolargl\",\"marker\":{\"colorbar\":{\"outlinewidth\":0,\"ticks\":\"\"}}}],\"bar\":[{\"error_x\":{\"color\":\"#2a3f5f\"},\"error_y\":{\"color\":\"#2a3f5f\"},\"marker\":{\"line\":{\"color\":\"#E5ECF6\",\"width\":0.5},\"pattern\":{\"fillmode\":\"overlay\",\"size\":10,\"solidity\":0.2}},\"type\":\"bar\"}],\"scattergeo\":[{\"type\":\"scattergeo\",\"marker\":{\"colorbar\":{\"outlinewidth\":0,\"ticks\":\"\"}}}],\"scatterpolar\":[{\"type\":\"scatterpolar\",\"marker\":{\"colorbar\":{\"outlinewidth\":0,\"ticks\":\"\"}}}],\"histogram\":[{\"marker\":{\"pattern\":{\"fillmode\":\"overlay\",\"size\":10,\"solidity\":0.2}},\"type\":\"histogram\"}],\"scattergl\":[{\"type\":\"scattergl\",\"marker\":{\"colorbar\":{\"outlinewidth\":0,\"ticks\":\"\"}}}],\"scatter3d\":[{\"type\":\"scatter3d\",\"line\":{\"colorbar\":{\"outlinewidth\":0,\"ticks\":\"\"}},\"marker\":{\"colorbar\":{\"outlinewidth\":0,\"ticks\":\"\"}}}],\"scattermapbox\":[{\"type\":\"scattermapbox\",\"marker\":{\"colorbar\":{\"outlinewidth\":0,\"ticks\":\"\"}}}],\"scatterternary\":[{\"type\":\"scatterternary\",\"marker\":{\"colorbar\":{\"outlinewidth\":0,\"ticks\":\"\"}}}],\"scattercarpet\":[{\"type\":\"scattercarpet\",\"marker\":{\"colorbar\":{\"outlinewidth\":0,\"ticks\":\"\"}}}],\"carpet\":[{\"aaxis\":{\"endlinecolor\":\"#2a3f5f\",\"gridcolor\":\"white\",\"linecolor\":\"white\",\"minorgridcolor\":\"white\",\"startlinecolor\":\"#2a3f5f\"},\"baxis\":{\"endlinecolor\":\"#2a3f5f\",\"gridcolor\":\"white\",\"linecolor\":\"white\",\"minorgridcolor\":\"white\",\"startlinecolor\":\"#2a3f5f\"},\"type\":\"carpet\"}],\"table\":[{\"cells\":{\"fill\":{\"color\":\"#EBF0F8\"},\"line\":{\"color\":\"white\"}},\"header\":{\"fill\":{\"color\":\"#C8D4E3\"},\"line\":{\"color\":\"white\"}},\"type\":\"table\"}],\"barpolar\":[{\"marker\":{\"line\":{\"color\":\"#E5ECF6\",\"width\":0.5},\"pattern\":{\"fillmode\":\"overlay\",\"size\":10,\"solidity\":0.2}},\"type\":\"barpolar\"}],\"pie\":[{\"automargin\":true,\"type\":\"pie\"}]},\"layout\":{\"autotypenumbers\":\"strict\",\"colorway\":[\"#636efa\",\"#EF553B\",\"#00cc96\",\"#ab63fa\",\"#FFA15A\",\"#19d3f3\",\"#FF6692\",\"#B6E880\",\"#FF97FF\",\"#FECB52\"],\"font\":{\"color\":\"#2a3f5f\"},\"hovermode\":\"closest\",\"hoverlabel\":{\"align\":\"left\"},\"paper_bgcolor\":\"white\",\"plot_bgcolor\":\"#E5ECF6\",\"polar\":{\"bgcolor\":\"#E5ECF6\",\"angularaxis\":{\"gridcolor\":\"white\",\"linecolor\":\"white\",\"ticks\":\"\"},\"radialaxis\":{\"gridcolor\":\"white\",\"linecolor\":\"white\",\"ticks\":\"\"}},\"ternary\":{\"bgcolor\":\"#E5ECF6\",\"aaxis\":{\"gridcolor\":\"white\",\"linecolor\":\"white\",\"ticks\":\"\"},\"baxis\":{\"gridcolor\":\"white\",\"linecolor\":\"white\",\"ticks\":\"\"},\"caxis\":{\"gridcolor\":\"white\",\"linecolor\":\"white\",\"ticks\":\"\"}},\"coloraxis\":{\"colorbar\":{\"outlinewidth\":0,\"ticks\":\"\"}},\"colorscale\":{\"sequential\":[[0.0,\"#0d0887\"],[0.1111111111111111,\"#46039f\"],[0.2222222222222222,\"#7201a8\"],[0.3333333333333333,\"#9c179e\"],[0.4444444444444444,\"#bd3786\"],[0.5555555555555556,\"#d8576b\"],[0.6666666666666666,\"#ed7953\"],[0.7777777777777778,\"#fb9f3a\"],[0.8888888888888888,\"#fdca26\"],[1.0,\"#f0f921\"]],\"sequentialminus\":[[0.0,\"#0d0887\"],[0.1111111111111111,\"#46039f\"],[0.2222222222222222,\"#7201a8\"],[0.3333333333333333,\"#9c179e\"],[0.4444444444444444,\"#bd3786\"],[0.5555555555555556,\"#d8576b\"],[0.6666666666666666,\"#ed7953\"],[0.7777777777777778,\"#fb9f3a\"],[0.8888888888888888,\"#fdca26\"],[1.0,\"#f0f921\"]],\"diverging\":[[0,\"#8e0152\"],[0.1,\"#c51b7d\"],[0.2,\"#de77ae\"],[0.3,\"#f1b6da\"],[0.4,\"#fde0ef\"],[0.5,\"#f7f7f7\"],[0.6,\"#e6f5d0\"],[0.7,\"#b8e186\"],[0.8,\"#7fbc41\"],[0.9,\"#4d9221\"],[1,\"#276419\"]]},\"xaxis\":{\"gridcolor\":\"white\",\"linecolor\":\"white\",\"ticks\":\"\",\"title\":{\"standoff\":15},\"zerolinecolor\":\"white\",\"automargin\":true,\"zerolinewidth\":2},\"yaxis\":{\"gridcolor\":\"white\",\"linecolor\":\"white\",\"ticks\":\"\",\"title\":{\"standoff\":15},\"zerolinecolor\":\"white\",\"automargin\":true,\"zerolinewidth\":2},\"scene\":{\"xaxis\":{\"backgroundcolor\":\"#E5ECF6\",\"gridcolor\":\"white\",\"linecolor\":\"white\",\"showbackground\":true,\"ticks\":\"\",\"zerolinecolor\":\"white\",\"gridwidth\":2},\"yaxis\":{\"backgroundcolor\":\"#E5ECF6\",\"gridcolor\":\"white\",\"linecolor\":\"white\",\"showbackground\":true,\"ticks\":\"\",\"zerolinecolor\":\"white\",\"gridwidth\":2},\"zaxis\":{\"backgroundcolor\":\"#E5ECF6\",\"gridcolor\":\"white\",\"linecolor\":\"white\",\"showbackground\":true,\"ticks\":\"\",\"zerolinecolor\":\"white\",\"gridwidth\":2}},\"shapedefaults\":{\"line\":{\"color\":\"#2a3f5f\"}},\"annotationdefaults\":{\"arrowcolor\":\"#2a3f5f\",\"arrowhead\":0,\"arrowwidth\":1},\"geo\":{\"bgcolor\":\"white\",\"landcolor\":\"#E5ECF6\",\"subunitcolor\":\"white\",\"showland\":true,\"showlakes\":true,\"lakecolor\":\"white\"},\"title\":{\"x\":0.05},\"mapbox\":{\"style\":\"light\"}}},\"xaxis\":{\"anchor\":\"y\",\"domain\":[0.0,1.0],\"title\":{\"text\":\"Number Of Ratings\",\"font\":{\"size\":14,\"color\":\"black\"}}},\"yaxis\":{\"anchor\":\"x\",\"domain\":[0.0,1.0],\"title\":{\"text\":\"Sale Price\",\"font\":{\"size\":14,\"color\":\"black\"}}},\"legend\":{\"tracegroupgap\":0,\"itemsizing\":\"constant\"},\"title\":{\"text\":\"Number of Ratings vs Sale Price\",\"font\":{\"size\":18,\"color\":\"black\"},\"x\":0.5,\"xanchor\":\"center\"},\"width\":1000,\"height\":600},                        {\"responsive\": true}                    ).then(function(){\n",
       "                            \n",
       "var gd = document.getElementById('ca0afdc5-43ff-4422-bfac-b05ac88b56d2');\n",
       "var x = new MutationObserver(function (mutations, observer) {{\n",
       "        var display = window.getComputedStyle(gd).display;\n",
       "        if (!display || display === 'none') {{\n",
       "            console.log([gd, 'removed!']);\n",
       "            Plotly.purge(gd);\n",
       "            observer.disconnect();\n",
       "        }}\n",
       "}});\n",
       "\n",
       "// Listen for the removal of the full notebook cells\n",
       "var notebookContainer = gd.closest('#notebook-container');\n",
       "if (notebookContainer) {{\n",
       "    x.observe(notebookContainer, {childList: true});\n",
       "}}\n",
       "\n",
       "// Listen for the clearing of the current output cell\n",
       "var outputEl = gd.closest('.output');\n",
       "if (outputEl) {{\n",
       "    x.observe(outputEl, {childList: true});\n",
       "}}\n",
       "\n",
       "                        })                };                });            </script>        </div>"
      ]
     },
     "metadata": {},
     "output_type": "display_data"
    }
   ],
   "source": [
    "figure = px.scatter(df, x='Number Of Ratings', y='Sale Price', size='Discount Percentage', color_discrete_sequence=['#f06804'], \n",
    "                    opacity=0.6, trendline='ols',title=\"Number of Ratings vs Sale Price\") #size: Bubble size\n",
    "figure.update_layout(width=1000,\n",
    "                     height=600,\n",
    "                     title_font=dict(size=18, color='black'),\n",
    "                     title=dict(x=0.5, xanchor='center'),# Center align (0 = left, 1 = right)\n",
    "                     xaxis=dict(title_font=dict(size=14, color='black')),\n",
    "                     yaxis=dict(title_font=dict(size=14, color='black'))\n",
    "                    )\n",
    "figure.show()"
   ]
  },
  {
   "cell_type": "markdown",
   "id": "21d7effc-cae3-4c13-83bb-1687c6a98364",
   "metadata": {},
   "source": [
    "There is a negative linear relationship between the sale price of iPhones and the number of ratings. This means that iPhones with lower sale prices are sold more in India. "
   ]
  },
  {
   "cell_type": "markdown",
   "id": "33b7d9b5-2819-4fd5-8f99-bb158cb66b70",
   "metadata": {},
   "source": [
    "<span style=\"font-size: 24px; font-weight: bold;\">Relationship between the discount percentage and number of ratings of iPhones on flipkart</span>"
   ]
  },
  {
   "cell_type": "code",
   "execution_count": 19,
   "id": "90f05eba-feb4-4034-9a5f-0f720038c6b8",
   "metadata": {},
   "outputs": [
    {
     "data": {
      "application/vnd.plotly.v1+json": {
       "config": {
        "plotlyServerURL": "https://plot.ly"
       },
       "data": [
        {
         "hovertemplate": "Number Of Ratings=%{x}<br>Discount Percentage=%{y}<br>Mrp=%{marker.size}<extra></extra>",
         "legendgroup": "",
         "marker": {
          "color": "#7e6581",
          "opacity": 0.6,
          "size": [
           49900,
           84900,
           84900,
           77000,
           77000,
           49900,
           49900,
           77000,
           89900,
           52900,
           47900,
           52900,
           52900,
           52900,
           131900,
           117100,
           131900,
           117100,
           106600,
           140300,
           117100,
           140300,
           121300,
           54900,
           149900,
           139900,
           74900,
           129900,
           69900,
           84900,
           119900,
           139900,
           129900,
           74900,
           74900,
           84900,
           84900,
           129900,
           69900,
           129900,
           84900,
           149900,
           79900,
           79900,
           84900,
           69900,
           119900,
           129900,
           139900,
           139900,
           59900,
           59900,
           39900,
           44900,
           44900,
           44900,
           59900,
           39900,
           54900,
           54900,
           54900,
           54900
          ],
          "sizemode": "area",
          "sizeref": 374.75,
          "symbol": "circle"
         },
         "mode": "markers",
         "name": "",
         "orientation": "v",
         "showlegend": false,
         "type": "scatter",
         "x": [
          3431,
          3431,
          3431,
          11202,
          11202,
          3431,
          3431,
          11202,
          1454,
          79512,
          79512,
          79582,
          79512,
          79512,
          1078,
          1078,
          1078,
          1078,
          7088,
          7088,
          1078,
          7088,
          7081,
          95909,
          542,
          580,
          740,
          545,
          740,
          2101,
          545,
          580,
          580,
          730,
          730,
          2101,
          2101,
          580,
          740,
          580,
          2092,
          545,
          2101,
          2092,
          2101,
          740,
          545,
          580,
          580,
          580,
          43707,
          43707,
          95807,
          95909,
          95807,
          95909,
          43470,
          95909,
          43470,
          43470,
          43470,
          43470
         ],
         "xaxis": "x",
         "y": [
          0,
          0,
          0,
          0,
          0,
          0,
          0,
          0,
          0,
          20,
          16,
          20,
          20,
          20,
          0,
          0,
          0,
          0,
          29,
          15,
          0,
          15,
          17,
          18,
          6,
          6,
          13,
          6,
          14,
          10,
          7,
          6,
          6,
          13,
          13,
          10,
          10,
          6,
          14,
          6,
          10,
          6,
          11,
          11,
          10,
          14,
          7,
          6,
          6,
          6,
          8,
          8,
          24,
          22,
          22,
          22,
          8,
          24,
          14,
          14,
          14,
          14
         ],
         "yaxis": "y"
        },
        {
         "hovertemplate": "<b>OLS trendline</b><br>Discount Percentage = 0.000154292 * Number Of Ratings + 6.49233<br>R<sup>2</sup>=0.468988<br><br>Number Of Ratings=%{x}<br>Discount Percentage=%{y} <b>(trend)</b><extra></extra>",
         "legendgroup": "",
         "marker": {
          "color": "#7e6581",
          "symbol": "circle"
         },
         "mode": "lines",
         "name": "",
         "showlegend": false,
         "type": "scatter",
         "x": [
          542,
          545,
          545,
          545,
          545,
          580,
          580,
          580,
          580,
          580,
          580,
          580,
          580,
          730,
          730,
          740,
          740,
          740,
          740,
          1078,
          1078,
          1078,
          1078,
          1078,
          1454,
          2092,
          2092,
          2101,
          2101,
          2101,
          2101,
          2101,
          3431,
          3431,
          3431,
          3431,
          3431,
          7081,
          7088,
          7088,
          7088,
          11202,
          11202,
          11202,
          43470,
          43470,
          43470,
          43470,
          43470,
          43707,
          43707,
          79512,
          79512,
          79512,
          79512,
          79582,
          95807,
          95807,
          95909,
          95909,
          95909,
          95909
         ],
         "xaxis": "x",
         "y": [
          6.5759534706633325,
          6.576416346230309,
          6.576416346230309,
          6.576416346230309,
          6.576416346230309,
          6.581816561178369,
          6.581816561178369,
          6.581816561178369,
          6.581816561178369,
          6.581816561178369,
          6.581816561178369,
          6.581816561178369,
          6.581816561178369,
          6.6049603395271985,
          6.6049603395271985,
          6.606503258083787,
          6.606503258083787,
          6.606503258083787,
          6.606503258083787,
          6.658653905296482,
          6.658653905296482,
          6.658653905296482,
          6.658653905296482,
          6.658653905296482,
          6.716667643024214,
          6.815105846934566,
          6.815105846934566,
          6.816494473635496,
          6.816494473635496,
          6.816494473635496,
          6.816494473635496,
          6.816494473635496,
          7.021702641661781,
          7.021702641661781,
          7.021702641661781,
          7.021702641661781,
          7.021702641661781,
          7.584867914816621,
          7.5859479578062325,
          7.5859479578062325,
          7.5859479578062325,
          8.220704651986784,
          8.220704651986784,
          8.220704651986784,
          13.199394250386892,
          13.199394250386892,
          13.199394250386892,
          13.199394250386892,
          13.199394250386892,
          13.23596142017804,
          13.23596142017804,
          18.760381312043535,
          18.760381312043535,
          18.760381312043535,
          18.760381312043535,
          18.771181741939657,
          21.274567100004667,
          21.274567100004667,
          21.29030486928187,
          21.29030486928187,
          21.29030486928187,
          21.29030486928187
         ],
         "yaxis": "y"
        }
       ],
       "layout": {
        "height": 600,
        "legend": {
         "itemsizing": "constant",
         "tracegroupgap": 0
        },
        "template": {
         "data": {
          "bar": [
           {
            "error_x": {
             "color": "#2a3f5f"
            },
            "error_y": {
             "color": "#2a3f5f"
            },
            "marker": {
             "line": {
              "color": "#E5ECF6",
              "width": 0.5
             },
             "pattern": {
              "fillmode": "overlay",
              "size": 10,
              "solidity": 0.2
             }
            },
            "type": "bar"
           }
          ],
          "barpolar": [
           {
            "marker": {
             "line": {
              "color": "#E5ECF6",
              "width": 0.5
             },
             "pattern": {
              "fillmode": "overlay",
              "size": 10,
              "solidity": 0.2
             }
            },
            "type": "barpolar"
           }
          ],
          "carpet": [
           {
            "aaxis": {
             "endlinecolor": "#2a3f5f",
             "gridcolor": "white",
             "linecolor": "white",
             "minorgridcolor": "white",
             "startlinecolor": "#2a3f5f"
            },
            "baxis": {
             "endlinecolor": "#2a3f5f",
             "gridcolor": "white",
             "linecolor": "white",
             "minorgridcolor": "white",
             "startlinecolor": "#2a3f5f"
            },
            "type": "carpet"
           }
          ],
          "choropleth": [
           {
            "colorbar": {
             "outlinewidth": 0,
             "ticks": ""
            },
            "type": "choropleth"
           }
          ],
          "contour": [
           {
            "colorbar": {
             "outlinewidth": 0,
             "ticks": ""
            },
            "colorscale": [
             [
              0,
              "#0d0887"
             ],
             [
              0.1111111111111111,
              "#46039f"
             ],
             [
              0.2222222222222222,
              "#7201a8"
             ],
             [
              0.3333333333333333,
              "#9c179e"
             ],
             [
              0.4444444444444444,
              "#bd3786"
             ],
             [
              0.5555555555555556,
              "#d8576b"
             ],
             [
              0.6666666666666666,
              "#ed7953"
             ],
             [
              0.7777777777777778,
              "#fb9f3a"
             ],
             [
              0.8888888888888888,
              "#fdca26"
             ],
             [
              1,
              "#f0f921"
             ]
            ],
            "type": "contour"
           }
          ],
          "contourcarpet": [
           {
            "colorbar": {
             "outlinewidth": 0,
             "ticks": ""
            },
            "type": "contourcarpet"
           }
          ],
          "heatmap": [
           {
            "colorbar": {
             "outlinewidth": 0,
             "ticks": ""
            },
            "colorscale": [
             [
              0,
              "#0d0887"
             ],
             [
              0.1111111111111111,
              "#46039f"
             ],
             [
              0.2222222222222222,
              "#7201a8"
             ],
             [
              0.3333333333333333,
              "#9c179e"
             ],
             [
              0.4444444444444444,
              "#bd3786"
             ],
             [
              0.5555555555555556,
              "#d8576b"
             ],
             [
              0.6666666666666666,
              "#ed7953"
             ],
             [
              0.7777777777777778,
              "#fb9f3a"
             ],
             [
              0.8888888888888888,
              "#fdca26"
             ],
             [
              1,
              "#f0f921"
             ]
            ],
            "type": "heatmap"
           }
          ],
          "heatmapgl": [
           {
            "colorbar": {
             "outlinewidth": 0,
             "ticks": ""
            },
            "colorscale": [
             [
              0,
              "#0d0887"
             ],
             [
              0.1111111111111111,
              "#46039f"
             ],
             [
              0.2222222222222222,
              "#7201a8"
             ],
             [
              0.3333333333333333,
              "#9c179e"
             ],
             [
              0.4444444444444444,
              "#bd3786"
             ],
             [
              0.5555555555555556,
              "#d8576b"
             ],
             [
              0.6666666666666666,
              "#ed7953"
             ],
             [
              0.7777777777777778,
              "#fb9f3a"
             ],
             [
              0.8888888888888888,
              "#fdca26"
             ],
             [
              1,
              "#f0f921"
             ]
            ],
            "type": "heatmapgl"
           }
          ],
          "histogram": [
           {
            "marker": {
             "pattern": {
              "fillmode": "overlay",
              "size": 10,
              "solidity": 0.2
             }
            },
            "type": "histogram"
           }
          ],
          "histogram2d": [
           {
            "colorbar": {
             "outlinewidth": 0,
             "ticks": ""
            },
            "colorscale": [
             [
              0,
              "#0d0887"
             ],
             [
              0.1111111111111111,
              "#46039f"
             ],
             [
              0.2222222222222222,
              "#7201a8"
             ],
             [
              0.3333333333333333,
              "#9c179e"
             ],
             [
              0.4444444444444444,
              "#bd3786"
             ],
             [
              0.5555555555555556,
              "#d8576b"
             ],
             [
              0.6666666666666666,
              "#ed7953"
             ],
             [
              0.7777777777777778,
              "#fb9f3a"
             ],
             [
              0.8888888888888888,
              "#fdca26"
             ],
             [
              1,
              "#f0f921"
             ]
            ],
            "type": "histogram2d"
           }
          ],
          "histogram2dcontour": [
           {
            "colorbar": {
             "outlinewidth": 0,
             "ticks": ""
            },
            "colorscale": [
             [
              0,
              "#0d0887"
             ],
             [
              0.1111111111111111,
              "#46039f"
             ],
             [
              0.2222222222222222,
              "#7201a8"
             ],
             [
              0.3333333333333333,
              "#9c179e"
             ],
             [
              0.4444444444444444,
              "#bd3786"
             ],
             [
              0.5555555555555556,
              "#d8576b"
             ],
             [
              0.6666666666666666,
              "#ed7953"
             ],
             [
              0.7777777777777778,
              "#fb9f3a"
             ],
             [
              0.8888888888888888,
              "#fdca26"
             ],
             [
              1,
              "#f0f921"
             ]
            ],
            "type": "histogram2dcontour"
           }
          ],
          "mesh3d": [
           {
            "colorbar": {
             "outlinewidth": 0,
             "ticks": ""
            },
            "type": "mesh3d"
           }
          ],
          "parcoords": [
           {
            "line": {
             "colorbar": {
              "outlinewidth": 0,
              "ticks": ""
             }
            },
            "type": "parcoords"
           }
          ],
          "pie": [
           {
            "automargin": true,
            "type": "pie"
           }
          ],
          "scatter": [
           {
            "fillpattern": {
             "fillmode": "overlay",
             "size": 10,
             "solidity": 0.2
            },
            "type": "scatter"
           }
          ],
          "scatter3d": [
           {
            "line": {
             "colorbar": {
              "outlinewidth": 0,
              "ticks": ""
             }
            },
            "marker": {
             "colorbar": {
              "outlinewidth": 0,
              "ticks": ""
             }
            },
            "type": "scatter3d"
           }
          ],
          "scattercarpet": [
           {
            "marker": {
             "colorbar": {
              "outlinewidth": 0,
              "ticks": ""
             }
            },
            "type": "scattercarpet"
           }
          ],
          "scattergeo": [
           {
            "marker": {
             "colorbar": {
              "outlinewidth": 0,
              "ticks": ""
             }
            },
            "type": "scattergeo"
           }
          ],
          "scattergl": [
           {
            "marker": {
             "colorbar": {
              "outlinewidth": 0,
              "ticks": ""
             }
            },
            "type": "scattergl"
           }
          ],
          "scattermapbox": [
           {
            "marker": {
             "colorbar": {
              "outlinewidth": 0,
              "ticks": ""
             }
            },
            "type": "scattermapbox"
           }
          ],
          "scatterpolar": [
           {
            "marker": {
             "colorbar": {
              "outlinewidth": 0,
              "ticks": ""
             }
            },
            "type": "scatterpolar"
           }
          ],
          "scatterpolargl": [
           {
            "marker": {
             "colorbar": {
              "outlinewidth": 0,
              "ticks": ""
             }
            },
            "type": "scatterpolargl"
           }
          ],
          "scatterternary": [
           {
            "marker": {
             "colorbar": {
              "outlinewidth": 0,
              "ticks": ""
             }
            },
            "type": "scatterternary"
           }
          ],
          "surface": [
           {
            "colorbar": {
             "outlinewidth": 0,
             "ticks": ""
            },
            "colorscale": [
             [
              0,
              "#0d0887"
             ],
             [
              0.1111111111111111,
              "#46039f"
             ],
             [
              0.2222222222222222,
              "#7201a8"
             ],
             [
              0.3333333333333333,
              "#9c179e"
             ],
             [
              0.4444444444444444,
              "#bd3786"
             ],
             [
              0.5555555555555556,
              "#d8576b"
             ],
             [
              0.6666666666666666,
              "#ed7953"
             ],
             [
              0.7777777777777778,
              "#fb9f3a"
             ],
             [
              0.8888888888888888,
              "#fdca26"
             ],
             [
              1,
              "#f0f921"
             ]
            ],
            "type": "surface"
           }
          ],
          "table": [
           {
            "cells": {
             "fill": {
              "color": "#EBF0F8"
             },
             "line": {
              "color": "white"
             }
            },
            "header": {
             "fill": {
              "color": "#C8D4E3"
             },
             "line": {
              "color": "white"
             }
            },
            "type": "table"
           }
          ]
         },
         "layout": {
          "annotationdefaults": {
           "arrowcolor": "#2a3f5f",
           "arrowhead": 0,
           "arrowwidth": 1
          },
          "autotypenumbers": "strict",
          "coloraxis": {
           "colorbar": {
            "outlinewidth": 0,
            "ticks": ""
           }
          },
          "colorscale": {
           "diverging": [
            [
             0,
             "#8e0152"
            ],
            [
             0.1,
             "#c51b7d"
            ],
            [
             0.2,
             "#de77ae"
            ],
            [
             0.3,
             "#f1b6da"
            ],
            [
             0.4,
             "#fde0ef"
            ],
            [
             0.5,
             "#f7f7f7"
            ],
            [
             0.6,
             "#e6f5d0"
            ],
            [
             0.7,
             "#b8e186"
            ],
            [
             0.8,
             "#7fbc41"
            ],
            [
             0.9,
             "#4d9221"
            ],
            [
             1,
             "#276419"
            ]
           ],
           "sequential": [
            [
             0,
             "#0d0887"
            ],
            [
             0.1111111111111111,
             "#46039f"
            ],
            [
             0.2222222222222222,
             "#7201a8"
            ],
            [
             0.3333333333333333,
             "#9c179e"
            ],
            [
             0.4444444444444444,
             "#bd3786"
            ],
            [
             0.5555555555555556,
             "#d8576b"
            ],
            [
             0.6666666666666666,
             "#ed7953"
            ],
            [
             0.7777777777777778,
             "#fb9f3a"
            ],
            [
             0.8888888888888888,
             "#fdca26"
            ],
            [
             1,
             "#f0f921"
            ]
           ],
           "sequentialminus": [
            [
             0,
             "#0d0887"
            ],
            [
             0.1111111111111111,
             "#46039f"
            ],
            [
             0.2222222222222222,
             "#7201a8"
            ],
            [
             0.3333333333333333,
             "#9c179e"
            ],
            [
             0.4444444444444444,
             "#bd3786"
            ],
            [
             0.5555555555555556,
             "#d8576b"
            ],
            [
             0.6666666666666666,
             "#ed7953"
            ],
            [
             0.7777777777777778,
             "#fb9f3a"
            ],
            [
             0.8888888888888888,
             "#fdca26"
            ],
            [
             1,
             "#f0f921"
            ]
           ]
          },
          "colorway": [
           "#636efa",
           "#EF553B",
           "#00cc96",
           "#ab63fa",
           "#FFA15A",
           "#19d3f3",
           "#FF6692",
           "#B6E880",
           "#FF97FF",
           "#FECB52"
          ],
          "font": {
           "color": "#2a3f5f"
          },
          "geo": {
           "bgcolor": "white",
           "lakecolor": "white",
           "landcolor": "#E5ECF6",
           "showlakes": true,
           "showland": true,
           "subunitcolor": "white"
          },
          "hoverlabel": {
           "align": "left"
          },
          "hovermode": "closest",
          "mapbox": {
           "style": "light"
          },
          "paper_bgcolor": "white",
          "plot_bgcolor": "#E5ECF6",
          "polar": {
           "angularaxis": {
            "gridcolor": "white",
            "linecolor": "white",
            "ticks": ""
           },
           "bgcolor": "#E5ECF6",
           "radialaxis": {
            "gridcolor": "white",
            "linecolor": "white",
            "ticks": ""
           }
          },
          "scene": {
           "xaxis": {
            "backgroundcolor": "#E5ECF6",
            "gridcolor": "white",
            "gridwidth": 2,
            "linecolor": "white",
            "showbackground": true,
            "ticks": "",
            "zerolinecolor": "white"
           },
           "yaxis": {
            "backgroundcolor": "#E5ECF6",
            "gridcolor": "white",
            "gridwidth": 2,
            "linecolor": "white",
            "showbackground": true,
            "ticks": "",
            "zerolinecolor": "white"
           },
           "zaxis": {
            "backgroundcolor": "#E5ECF6",
            "gridcolor": "white",
            "gridwidth": 2,
            "linecolor": "white",
            "showbackground": true,
            "ticks": "",
            "zerolinecolor": "white"
           }
          },
          "shapedefaults": {
           "line": {
            "color": "#2a3f5f"
           }
          },
          "ternary": {
           "aaxis": {
            "gridcolor": "white",
            "linecolor": "white",
            "ticks": ""
           },
           "baxis": {
            "gridcolor": "white",
            "linecolor": "white",
            "ticks": ""
           },
           "bgcolor": "#E5ECF6",
           "caxis": {
            "gridcolor": "white",
            "linecolor": "white",
            "ticks": ""
           }
          },
          "title": {
           "x": 0.05
          },
          "xaxis": {
           "automargin": true,
           "gridcolor": "white",
           "linecolor": "white",
           "ticks": "",
           "title": {
            "standoff": 15
           },
           "zerolinecolor": "white",
           "zerolinewidth": 2
          },
          "yaxis": {
           "automargin": true,
           "gridcolor": "white",
           "linecolor": "white",
           "ticks": "",
           "title": {
            "standoff": 15
           },
           "zerolinecolor": "white",
           "zerolinewidth": 2
          }
         }
        },
        "title": {
         "font": {
          "color": "black",
          "size": 18
         },
         "text": "Discount Percentage vs Number of Ratings",
         "x": 0.5,
         "xanchor": "center"
        },
        "width": 1000,
        "xaxis": {
         "anchor": "y",
         "autorange": true,
         "domain": [
          0,
          1
         ],
         "range": [
          -7004.056413730503,
          102640.21219556205
         ],
         "title": {
          "font": {
           "color": "black",
           "size": 14
          },
          "text": "Number Of Ratings"
         },
         "type": "linear"
        },
        "yaxis": {
         "anchor": "x",
         "autorange": true,
         "domain": [
          0,
          1
         ],
         "range": [
          -2.9703172577738575,
          31.846129395254106
         ],
         "title": {
          "font": {
           "color": "black",
           "size": 14
          },
          "text": "Discount Percentage"
         },
         "type": "linear"
        }
       }
      },
      "image/png": "[encoded data removed]",
      "text/html": [
       "<div>                            <div id=\"613c94fb-1574-4d14-bf81-eb33968ed518\" class=\"plotly-graph-div\" style=\"height:600px; width:1000px;\"></div>            <script type=\"text/javascript\">                require([\"plotly\"], function(Plotly) {                    window.PLOTLYENV=window.PLOTLYENV || {};                                    if (document.getElementById(\"613c94fb-1574-4d14-bf81-eb33968ed518\")) {                    Plotly.newPlot(                        \"613c94fb-1574-4d14-bf81-eb33968ed518\",                        [{\"hovertemplate\":\"Number Of Ratings=%{x}\\u003cbr\\u003eDiscount Percentage=%{y}\\u003cbr\\u003eMrp=%{marker.size}\\u003cextra\\u003e\\u003c\\u002fextra\\u003e\",\"legendgroup\":\"\",\"marker\":{\"color\":\"#7e6581\",\"opacity\":0.6,\"size\":[49900,84900,84900,77000,77000,49900,49900,77000,89900,52900,47900,52900,52900,52900,131900,117100,131900,117100,106600,140300,117100,140300,121300,54900,149900,139900,74900,129900,69900,84900,119900,139900,129900,74900,74900,84900,84900,129900,69900,129900,84900,149900,79900,79900,84900,69900,119900,129900,139900,139900,59900,59900,39900,44900,44900,44900,59900,39900,54900,54900,54900,54900],\"sizemode\":\"area\",\"sizeref\":374.75,\"symbol\":\"circle\"},\"mode\":\"markers\",\"name\":\"\",\"orientation\":\"v\",\"showlegend\":false,\"x\":[3431,3431,3431,11202,11202,3431,3431,11202,1454,79512,79512,79582,79512,79512,1078,1078,1078,1078,7088,7088,1078,7088,7081,95909,542,580,740,545,740,2101,545,580,580,730,730,2101,2101,580,740,580,2092,545,2101,2092,2101,740,545,580,580,580,43707,43707,95807,95909,95807,95909,43470,95909,43470,43470,43470,43470],\"xaxis\":\"x\",\"y\":[0,0,0,0,0,0,0,0,0,20,16,20,20,20,0,0,0,0,29,15,0,15,17,18,6,6,13,6,14,10,7,6,6,13,13,10,10,6,14,6,10,6,11,11,10,14,7,6,6,6,8,8,24,22,22,22,8,24,14,14,14,14],\"yaxis\":\"y\",\"type\":\"scatter\"},{\"hovertemplate\":\"\\u003cb\\u003eOLS trendline\\u003c\\u002fb\\u003e\\u003cbr\\u003eDiscount Percentage = 0.000154292 * Number Of Ratings + 6.49233\\u003cbr\\u003eR\\u003csup\\u003e2\\u003c\\u002fsup\\u003e=0.468988\\u003cbr\\u003e\\u003cbr\\u003eNumber Of Ratings=%{x}\\u003cbr\\u003eDiscount Percentage=%{y} \\u003cb\\u003e(trend)\\u003c\\u002fb\\u003e\\u003cextra\\u003e\\u003c\\u002fextra\\u003e\",\"legendgroup\":\"\",\"marker\":{\"color\":\"#7e6581\",\"symbol\":\"circle\"},\"mode\":\"lines\",\"name\":\"\",\"showlegend\":false,\"x\":[542,545,545,545,545,580,580,580,580,580,580,580,580,730,730,740,740,740,740,1078,1078,1078,1078,1078,1454,2092,2092,2101,2101,2101,2101,2101,3431,3431,3431,3431,3431,7081,7088,7088,7088,11202,11202,11202,43470,43470,43470,43470,43470,43707,43707,79512,79512,79512,79512,79582,95807,95807,95909,95909,95909,95909],\"xaxis\":\"x\",\"y\":[6.5759534706633325,6.576416346230309,6.576416346230309,6.576416346230309,6.576416346230309,6.581816561178369,6.581816561178369,6.581816561178369,6.581816561178369,6.581816561178369,6.581816561178369,6.581816561178369,6.581816561178369,6.6049603395271985,6.6049603395271985,6.606503258083787,6.606503258083787,6.606503258083787,6.606503258083787,6.658653905296482,6.658653905296482,6.658653905296482,6.658653905296482,6.658653905296482,6.716667643024214,6.815105846934566,6.815105846934566,6.816494473635496,6.816494473635496,6.816494473635496,6.816494473635496,6.816494473635496,7.021702641661781,7.021702641661781,7.021702641661781,7.021702641661781,7.021702641661781,7.584867914816621,7.5859479578062325,7.5859479578062325,7.5859479578062325,8.220704651986784,8.220704651986784,8.220704651986784,13.199394250386892,13.199394250386892,13.199394250386892,13.199394250386892,13.199394250386892,13.23596142017804,13.23596142017804,18.760381312043535,18.760381312043535,18.760381312043535,18.760381312043535,18.771181741939657,21.274567100004667,21.274567100004667,21.29030486928187,21.29030486928187,21.29030486928187,21.29030486928187],\"yaxis\":\"y\",\"type\":\"scatter\"}],                        {\"template\":{\"data\":{\"histogram2dcontour\":[{\"type\":\"histogram2dcontour\",\"colorbar\":{\"outlinewidth\":0,\"ticks\":\"\"},\"colorscale\":[[0.0,\"#0d0887\"],[0.1111111111111111,\"#46039f\"],[0.2222222222222222,\"#7201a8\"],[0.3333333333333333,\"#9c179e\"],[0.4444444444444444,\"#bd3786\"],[0.5555555555555556,\"#d8576b\"],[0.6666666666666666,\"#ed7953\"],[0.7777777777777778,\"#fb9f3a\"],[0.8888888888888888,\"#fdca26\"],[1.0,\"#f0f921\"]]}],\"choropleth\":[{\"type\":\"choropleth\",\"colorbar\":{\"outlinewidth\":0,\"ticks\":\"\"}}],\"histogram2d\":[{\"type\":\"histogram2d\",\"colorbar\":{\"outlinewidth\":0,\"ticks\":\"\"},\"colorscale\":[[0.0,\"#0d0887\"],[0.1111111111111111,\"#46039f\"],[0.2222222222222222,\"#7201a8\"],[0.3333333333333333,\"#9c179e\"],[0.4444444444444444,\"#bd3786\"],[0.5555555555555556,\"#d8576b\"],[0.6666666666666666,\"#ed7953\"],[0.7777777777777778,\"#fb9f3a\"],[0.8888888888888888,\"#fdca26\"],[1.0,\"#f0f921\"]]}],\"heatmap\":[{\"type\":\"heatmap\",\"colorbar\":{\"outlinewidth\":0,\"ticks\":\"\"},\"colorscale\":[[0.0,\"#0d0887\"],[0.1111111111111111,\"#46039f\"],[0.2222222222222222,\"#7201a8\"],[0.3333333333333333,\"#9c179e\"],[0.4444444444444444,\"#bd3786\"],[0.5555555555555556,\"#d8576b\"],[0.6666666666666666,\"#ed7953\"],[0.7777777777777778,\"#fb9f3a\"],[0.8888888888888888,\"#fdca26\"],[1.0,\"#f0f921\"]]}],\"heatmapgl\":[{\"type\":\"heatmapgl\",\"colorbar\":{\"outlinewidth\":0,\"ticks\":\"\"},\"colorscale\":[[0.0,\"#0d0887\"],[0.1111111111111111,\"#46039f\"],[0.2222222222222222,\"#7201a8\"],[0.3333333333333333,\"#9c179e\"],[0.4444444444444444,\"#bd3786\"],[0.5555555555555556,\"#d8576b\"],[0.6666666666666666,\"#ed7953\"],[0.7777777777777778,\"#fb9f3a\"],[0.8888888888888888,\"#fdca26\"],[1.0,\"#f0f921\"]]}],\"contourcarpet\":[{\"type\":\"contourcarpet\",\"colorbar\":{\"outlinewidth\":0,\"ticks\":\"\"}}],\"contour\":[{\"type\":\"contour\",\"colorbar\":{\"outlinewidth\":0,\"ticks\":\"\"},\"colorscale\":[[0.0,\"#0d0887\"],[0.1111111111111111,\"#46039f\"],[0.2222222222222222,\"#7201a8\"],[0.3333333333333333,\"#9c179e\"],[0.4444444444444444,\"#bd3786\"],[0.5555555555555556,\"#d8576b\"],[0.6666666666666666,\"#ed7953\"],[0.7777777777777778,\"#fb9f3a\"],[0.8888888888888888,\"#fdca26\"],[1.0,\"#f0f921\"]]}],\"surface\":[{\"type\":\"surface\",\"colorbar\":{\"outlinewidth\":0,\"ticks\":\"\"},\"colorscale\":[[0.0,\"#0d0887\"],[0.1111111111111111,\"#46039f\"],[0.2222222222222222,\"#7201a8\"],[0.3333333333333333,\"#9c179e\"],[0.4444444444444444,\"#bd3786\"],[0.5555555555555556,\"#d8576b\"],[0.6666666666666666,\"#ed7953\"],[0.7777777777777778,\"#fb9f3a\"],[0.8888888888888888,\"#fdca26\"],[1.0,\"#f0f921\"]]}],\"mesh3d\":[{\"type\":\"mesh3d\",\"colorbar\":{\"outlinewidth\":0,\"ticks\":\"\"}}],\"scatter\":[{\"fillpattern\":{\"fillmode\":\"overlay\",\"size\":10,\"solidity\":0.2},\"type\":\"scatter\"}],\"parcoords\":[{\"type\":\"parcoords\",\"line\":{\"colorbar\":{\"outlinewidth\":0,\"ticks\":\"\"}}}],\"scatterpolargl\":[{\"type\":\"scatterpolargl\",\"marker\":{\"colorbar\":{\"outlinewidth\":0,\"ticks\":\"\"}}}],\"bar\":[{\"error_x\":{\"color\":\"#2a3f5f\"},\"error_y\":{\"color\":\"#2a3f5f\"},\"marker\":{\"line\":{\"color\":\"#E5ECF6\",\"width\":0.5},\"pattern\":{\"fillmode\":\"overlay\",\"size\":10,\"solidity\":0.2}},\"type\":\"bar\"}],\"scattergeo\":[{\"type\":\"scattergeo\",\"marker\":{\"colorbar\":{\"outlinewidth\":0,\"ticks\":\"\"}}}],\"scatterpolar\":[{\"type\":\"scatterpolar\",\"marker\":{\"colorbar\":{\"outlinewidth\":0,\"ticks\":\"\"}}}],\"histogram\":[{\"marker\":{\"pattern\":{\"fillmode\":\"overlay\",\"size\":10,\"solidity\":0.2}},\"type\":\"histogram\"}],\"scattergl\":[{\"type\":\"scattergl\",\"marker\":{\"colorbar\":{\"outlinewidth\":0,\"ticks\":\"\"}}}],\"scatter3d\":[{\"type\":\"scatter3d\",\"line\":{\"colorbar\":{\"outlinewidth\":0,\"ticks\":\"\"}},\"marker\":{\"colorbar\":{\"outlinewidth\":0,\"ticks\":\"\"}}}],\"scattermapbox\":[{\"type\":\"scattermapbox\",\"marker\":{\"colorbar\":{\"outlinewidth\":0,\"ticks\":\"\"}}}],\"scatterternary\":[{\"type\":\"scatterternary\",\"marker\":{\"colorbar\":{\"outlinewidth\":0,\"ticks\":\"\"}}}],\"scattercarpet\":[{\"type\":\"scattercarpet\",\"marker\":{\"colorbar\":{\"outlinewidth\":0,\"ticks\":\"\"}}}],\"carpet\":[{\"aaxis\":{\"endlinecolor\":\"#2a3f5f\",\"gridcolor\":\"white\",\"linecolor\":\"white\",\"minorgridcolor\":\"white\",\"startlinecolor\":\"#2a3f5f\"},\"baxis\":{\"endlinecolor\":\"#2a3f5f\",\"gridcolor\":\"white\",\"linecolor\":\"white\",\"minorgridcolor\":\"white\",\"startlinecolor\":\"#2a3f5f\"},\"type\":\"carpet\"}],\"table\":[{\"cells\":{\"fill\":{\"color\":\"#EBF0F8\"},\"line\":{\"color\":\"white\"}},\"header\":{\"fill\":{\"color\":\"#C8D4E3\"},\"line\":{\"color\":\"white\"}},\"type\":\"table\"}],\"barpolar\":[{\"marker\":{\"line\":{\"color\":\"#E5ECF6\",\"width\":0.5},\"pattern\":{\"fillmode\":\"overlay\",\"size\":10,\"solidity\":0.2}},\"type\":\"barpolar\"}],\"pie\":[{\"automargin\":true,\"type\":\"pie\"}]},\"layout\":{\"autotypenumbers\":\"strict\",\"colorway\":[\"#636efa\",\"#EF553B\",\"#00cc96\",\"#ab63fa\",\"#FFA15A\",\"#19d3f3\",\"#FF6692\",\"#B6E880\",\"#FF97FF\",\"#FECB52\"],\"font\":{\"color\":\"#2a3f5f\"},\"hovermode\":\"closest\",\"hoverlabel\":{\"align\":\"left\"},\"paper_bgcolor\":\"white\",\"plot_bgcolor\":\"#E5ECF6\",\"polar\":{\"bgcolor\":\"#E5ECF6\",\"angularaxis\":{\"gridcolor\":\"white\",\"linecolor\":\"white\",\"ticks\":\"\"},\"radialaxis\":{\"gridcolor\":\"white\",\"linecolor\":\"white\",\"ticks\":\"\"}},\"ternary\":{\"bgcolor\":\"#E5ECF6\",\"aaxis\":{\"gridcolor\":\"white\",\"linecolor\":\"white\",\"ticks\":\"\"},\"baxis\":{\"gridcolor\":\"white\",\"linecolor\":\"white\",\"ticks\":\"\"},\"caxis\":{\"gridcolor\":\"white\",\"linecolor\":\"white\",\"ticks\":\"\"}},\"coloraxis\":{\"colorbar\":{\"outlinewidth\":0,\"ticks\":\"\"}},\"colorscale\":{\"sequential\":[[0.0,\"#0d0887\"],[0.1111111111111111,\"#46039f\"],[0.2222222222222222,\"#7201a8\"],[0.3333333333333333,\"#9c179e\"],[0.4444444444444444,\"#bd3786\"],[0.5555555555555556,\"#d8576b\"],[0.6666666666666666,\"#ed7953\"],[0.7777777777777778,\"#fb9f3a\"],[0.8888888888888888,\"#fdca26\"],[1.0,\"#f0f921\"]],\"sequentialminus\":[[0.0,\"#0d0887\"],[0.1111111111111111,\"#46039f\"],[0.2222222222222222,\"#7201a8\"],[0.3333333333333333,\"#9c179e\"],[0.4444444444444444,\"#bd3786\"],[0.5555555555555556,\"#d8576b\"],[0.6666666666666666,\"#ed7953\"],[0.7777777777777778,\"#fb9f3a\"],[0.8888888888888888,\"#fdca26\"],[1.0,\"#f0f921\"]],\"diverging\":[[0,\"#8e0152\"],[0.1,\"#c51b7d\"],[0.2,\"#de77ae\"],[0.3,\"#f1b6da\"],[0.4,\"#fde0ef\"],[0.5,\"#f7f7f7\"],[0.6,\"#e6f5d0\"],[0.7,\"#b8e186\"],[0.8,\"#7fbc41\"],[0.9,\"#4d9221\"],[1,\"#276419\"]]},\"xaxis\":{\"gridcolor\":\"white\",\"linecolor\":\"white\",\"ticks\":\"\",\"title\":{\"standoff\":15},\"zerolinecolor\":\"white\",\"automargin\":true,\"zerolinewidth\":2},\"yaxis\":{\"gridcolor\":\"white\",\"linecolor\":\"white\",\"ticks\":\"\",\"title\":{\"standoff\":15},\"zerolinecolor\":\"white\",\"automargin\":true,\"zerolinewidth\":2},\"scene\":{\"xaxis\":{\"backgroundcolor\":\"#E5ECF6\",\"gridcolor\":\"white\",\"linecolor\":\"white\",\"showbackground\":true,\"ticks\":\"\",\"zerolinecolor\":\"white\",\"gridwidth\":2},\"yaxis\":{\"backgroundcolor\":\"#E5ECF6\",\"gridcolor\":\"white\",\"linecolor\":\"white\",\"showbackground\":true,\"ticks\":\"\",\"zerolinecolor\":\"white\",\"gridwidth\":2},\"zaxis\":{\"backgroundcolor\":\"#E5ECF6\",\"gridcolor\":\"white\",\"linecolor\":\"white\",\"showbackground\":true,\"ticks\":\"\",\"zerolinecolor\":\"white\",\"gridwidth\":2}},\"shapedefaults\":{\"line\":{\"color\":\"#2a3f5f\"}},\"annotationdefaults\":{\"arrowcolor\":\"#2a3f5f\",\"arrowhead\":0,\"arrowwidth\":1},\"geo\":{\"bgcolor\":\"white\",\"landcolor\":\"#E5ECF6\",\"subunitcolor\":\"white\",\"showland\":true,\"showlakes\":true,\"lakecolor\":\"white\"},\"title\":{\"x\":0.05},\"mapbox\":{\"style\":\"light\"}}},\"xaxis\":{\"anchor\":\"y\",\"domain\":[0.0,1.0],\"title\":{\"text\":\"Number Of Ratings\",\"font\":{\"size\":14,\"color\":\"black\"}}},\"yaxis\":{\"anchor\":\"x\",\"domain\":[0.0,1.0],\"title\":{\"text\":\"Discount Percentage\",\"font\":{\"size\":14,\"color\":\"black\"}}},\"legend\":{\"tracegroupgap\":0,\"itemsizing\":\"constant\"},\"title\":{\"text\":\"Discount Percentage vs Number of Ratings\",\"font\":{\"size\":18,\"color\":\"black\"},\"x\":0.5,\"xanchor\":\"center\"},\"width\":1000,\"height\":600},                        {\"responsive\": true}                    ).then(function(){\n",
       "                            \n",
       "var gd = document.getElementById('613c94fb-1574-4d14-bf81-eb33968ed518');\n",
       "var x = new MutationObserver(function (mutations, observer) {{\n",
       "        var display = window.getComputedStyle(gd).display;\n",
       "        if (!display || display === 'none') {{\n",
       "            console.log([gd, 'removed!']);\n",
       "            Plotly.purge(gd);\n",
       "            observer.disconnect();\n",
       "        }}\n",
       "}});\n",
       "\n",
       "// Listen for the removal of the full notebook cells\n",
       "var notebookContainer = gd.closest('#notebook-container');\n",
       "if (notebookContainer) {{\n",
       "    x.observe(notebookContainer, {childList: true});\n",
       "}}\n",
       "\n",
       "// Listen for the clearing of the current output cell\n",
       "var outputEl = gd.closest('.output');\n",
       "if (outputEl) {{\n",
       "    x.observe(outputEl, {childList: true});\n",
       "}}\n",
       "\n",
       "                        })                };                });            </script>        </div>"
      ]
     },
     "metadata": {},
     "output_type": "display_data"
    }
   ],
   "source": [
    "figure = px.scatter(df, x='Number Of Ratings', y='Discount Percentage', size='Mrp', color_discrete_sequence=['#7e6581'], \n",
    "                    opacity=0.6, trendline='ols',title=\"Discount Percentage vs Number of Ratings\") #size: Bubble size\n",
    "figure.update_layout(width=1000,\n",
    "                     height=600,\n",
    "                     title_font=dict(size=18, color='black'),\n",
    "                     title=dict(x=0.5, xanchor='center'),# Center align (0 = left, 1 = right)\n",
    "                     xaxis=dict(title_font=dict(size=14, color='black')),\n",
    "                     yaxis=dict(title_font=dict(size=14, color='black'))\n",
    "                    )\n",
    "figure.show()"
   ]
  },
  {
   "cell_type": "markdown",
   "id": "a0da327a-2d5e-44fe-99eb-4c3cbabe2ce0",
   "metadata": {},
   "source": [
    "<span style=\"font-size: 24px; font-weight: bold;\">Most Expensive & Least Expensive iPhones</span>"
   ]
  },
  {
   "cell_type": "code",
   "execution_count": 20,
   "id": "da71dc88-1e31-4c33-8006-75878ba2647e",
   "metadata": {},
   "outputs": [
    {
     "name": "stdout",
     "output_type": "stream",
     "text": [
      "Most Expensive iPhone :\n",
      "Product Name                        APPLE iPhone 12 Pro (Silver, 512 GB)\n",
      "Product URL            https://www.flipkart.com/apple-iphone-12-pro-s...\n",
      "Brand                                                              Apple\n",
      "Sale Price                                                        140900\n",
      "Mrp                                                               149900\n",
      "Discount Percentage                                                    6\n",
      "Number Of Ratings                                                    542\n",
      "Number Of Reviews                                                     42\n",
      "Upc                                                     MOBFWBYZ5UY6ZBVA\n",
      "Star Rating                                                          4.5\n",
      "Ram                                                                 4 GB\n",
      "Name: 24, dtype: object\n",
      "Least Expensive iPhone :\n",
      "Product Name                              APPLE iPhone SE (White, 64 GB)\n",
      "Product URL            https://www.flipkart.com/apple-iphone-se-white...\n",
      "Brand                                                              Apple\n",
      "Sale Price                                                         29999\n",
      "Mrp                                                                39900\n",
      "Discount Percentage                                                   24\n",
      "Number Of Ratings                                                  95807\n",
      "Number Of Reviews                                                   8154\n",
      "Upc                                                     MOBFWQ6BGWDVGF3E\n",
      "Star Rating                                                          4.5\n",
      "Ram                                                                 2 GB\n",
      "Name: 52, dtype: object\n"
     ]
    }
   ],
   "source": [
    "most_expensive = df.loc[df['Sale Price'].idxmax()]\n",
    "least_expensive = df.loc[df['Sale Price'].idxmin()]\n",
    "\n",
    "print(\"Most Expensive iPhone :\")\n",
    "print(most_expensive)\n",
    "print(\"Least Expensive iPhone :\")\n",
    "print(least_expensive)"
   ]
  },
  {
   "cell_type": "code",
   "execution_count": null,
   "id": "e2415cea-6540-402b-9313-db96296756e4",
   "metadata": {},
   "outputs": [],
   "source": []
  }
 ],
 "metadata": {
  "kernelspec": {
   "display_name": "Python 3 (ipykernel)",
   "language": "python",
   "name": "python3"
  },
  "language_info": {
   "codemirror_mode": {
    "name": "ipython",
    "version": 3
   },
   "file_extension": ".py",
   "mimetype": "text/x-python",
   "name": "python",
   "nbconvert_exporter": "python",
   "pygments_lexer": "ipython3",
   "version": "3.12.7"
  }
 },
 "nbformat": 4,
 "nbformat_minor": 5
}
